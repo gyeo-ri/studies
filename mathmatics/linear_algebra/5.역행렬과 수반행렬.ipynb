{
 "cells": [
  {
   "cell_type": "markdown",
   "metadata": {},
   "source": [
    "###### 겨리 - 2021/01/14\n",
    "### **역행렬과 수반행렬**\n",
    "#### 역행렬의 일반적인 도출 방법과 수반행렬을 이용한 방법\n",
    "\n",
    "##### 코드 설명\n",
    "###### https://gyeo-ri.com/61\n"
   ]
  },
  {
   "cell_type": "code",
   "execution_count": 8,
   "metadata": {},
   "outputs": [],
   "source": [
    "import random\n",
    "import numpy as np"
   ]
  },
  {
   "cell_type": "markdown",
   "metadata": {},
   "source": [
    "#### 1. 행렬식과 수반행렬(adjoint matrix)\n",
    "##### 행렬식을 사용하면 행렬의 가역성을 판별할 수 있다(det(A) == 0이면 행렬 A는 비가역행렬)\n",
    "#### \n",
    "#### 수반행렬 : 행렬의 각 원소에 대응하는 여인수들의 행렬의 전치\n",
    "##### 행렬식을 구하는 알고리즘 사용(det_gauss)\n",
    "#### \n",
    "###### 행렬식 구현 링크\n",
    "###### https://github.com/gyeo-ri/studies/blob/master/mathmatics/linear_algebra/3.%ED%96%89%EB%A0%AC%EC%8B%9D.ipynb"
   ]
  },
  {
   "cell_type": "code",
   "execution_count": 20,
   "metadata": {},
   "outputs": [],
   "source": [
    "def adjoint_matrix(matrix_input):\n",
    "    matrix=matrix_input.copy()\n",
    "    dim = len(matrix)\n",
    "    adj = np.zeros((dim,dim)) #수반행렬을 담을 공간\n",
    "    \n",
    "\n",
    "    for row in range(dim):\n",
    "        for col in range(dim): #행렬의 모든 원소를 반복\n",
    "            \n",
    "            #해당 원소가 속한 행/열 제거\n",
    "            partial = np.delete(matrix,row,axis=0)\n",
    "            partial = np.delete(partial,col,axis=1)\n",
    "            \n",
    "            C = det_gauss(partial) *(-1)**(row+col) #단일함수일 경우 행렬식 알고리즘을 그대로 구현\n",
    "            \n",
    "            adj[col][row] = C #전치행렬이므로 행과 열을 반대로하여 adj에 삽입\n",
    "            \n",
    "    \n",
    "    return adj"
   ]
  },
  {
   "cell_type": "code",
   "execution_count": 21,
   "metadata": {},
   "outputs": [],
   "source": [
    "adj_A=adjoint_matrix(A)"
   ]
  },
  {
   "cell_type": "code",
   "execution_count": null,
   "metadata": {},
   "outputs": [],
   "source": [
    "#### 행렬 A와 A의 수반행렬 adj(A)의 행렬곱을 전개하면, "
   ]
  },
  {
   "cell_type": "code",
   "execution_count": 30,
   "metadata": {},
   "outputs": [
    {
     "name": "stdout",
     "output_type": "stream",
     "text": [
      "행렬 A는\n",
      "[[ 6. 14. 17. 15.]\n",
      " [19.  2.  9.  7.]\n",
      " [ 4. 13. 19.  6.]\n",
      " [ 7. 17. 20.  9.]]\n",
      "\n",
      "A의 행렬식은(det_gauss 함수 사용)\n",
      "9810.0\n",
      "\n",
      "A의 수반행렬은\n",
      "[[ -474.   486.  -804.   948.]\n",
      " [ -652.  -387. -2327.  2939.]\n",
      " [  136.   171.  2321. -1907.]\n",
      " [ 1298.   -27.  -137.  -961.]]\n",
      "\n",
      "A와 수반행렬 adj(A)의 곱은\n",
      "[[9810.   -0.   -0.    0.]\n",
      " [   0. 9810.   -0.    0.]\n",
      " [   0.   -0. 9810.    0.]\n",
      " [   0.   -0.   -0. 9810.]]\n"
     ]
    }
   ],
   "source": [
    "print(\"행렬 A는\")\n",
    "print(A)\n",
    "print()\n",
    "print(\"A의 행렬식은(det_gauss 함수 사용)\")\n",
    "print(det_gauss(A))\n",
    "print()\n",
    "print(\"A의 수반행렬은\")\n",
    "print(adj_A)\n",
    "print()\n",
    "print(\"A와 수반행렬 adj(A)의 곱은\")\n",
    "print(np.around(np.dot(A,adj_A))) # A와 adj(A)의 곱은 대각원소가 모두 행렬식인 대각행렬"
   ]
  },
  {
   "cell_type": "markdown",
   "metadata": {},
   "source": [
    "#### 2. 역행렬(Inverse Matrix)\n",
    "##### A의 역행렬 A^(-1)은 A와 곱했을 때 차수가 같은 단위행렬(I)이 출력되는 행렬이다. \n",
    "##### 각각의 행렬에 대해 역행렬은 없거나(비가역행렬) 유일하다.\n",
    "###### 참고 : 행렬의 연산 관련 알고리즘 구현\n",
    "###### https://github.com/gyeo-ri/studies/blob/master/mathmatics/linear_algebra/2.%ED%96%89%EB%A0%AC%EC%9D%98%20%EC%97%B0%EC%82%B0.ipynb\n",
    "#### \n",
    "##### 이전 노트에서 정의한 가우스-조르당 소거법 및 역행렬 알고리즘 사용"
   ]
  },
  {
   "cell_type": "code",
   "execution_count": 6,
   "metadata": {},
   "outputs": [],
   "source": [
    "def inverse_matrix(matrix):\n",
    "    dim = len(A)\n",
    "    queue=[] #확장행렬의 원소나열규칙을 사전에 큐에 저장해두고 하나씩 꺼냄(FIFO)\n",
    "    for i in range(dim):\n",
    "        num = i\n",
    "        for j in range(dim):\n",
    "            queue.append(num)\n",
    "            num +=dim\n",
    "    queue*= dim**2 # n차원 행렬에서 생성되는 확장행렬의 행은 n^2개이며, 각 행마다 n개의 변수가 있으므로 규칙을 확장\n",
    "\n",
    "    #확장행렬을 생성하고 초깃값을 0으로 지정\n",
    "    zero_array = np.zeros((dim**2,dim**2+1))\n",
    "\n",
    "\n",
    "    for row_no in range(dim**2): #결과 행렬의 행 수만큼 반복\n",
    "        temp_row = A[row_no//dim]\n",
    "        for j in range(dim):\n",
    "            idx = queue.pop(0) \n",
    "            zero_array[row_no,idx] = temp_row[j] #i행의 idx열에 대입\n",
    "\n",
    "        if row_no%(dim+1) == 0:  #결괏값인 단위행렬을 연립방정식의 마지막 열에 구현\n",
    "            zero_array[row_no, -1] = 1\n",
    "            \n",
    "    #사전 정의된 가우스-조르당 소거법 함수가 필요\n",
    "    echelon_form=gauss_jordan_elimination(zero_array)\n",
    "    elements=np.array(echelon_form[:,-1])\n",
    "    inverse_matrix=elements.reshape(dim,-1)\n",
    "    return inverse_matrix"
   ]
  },
  {
   "cell_type": "code",
   "execution_count": 9,
   "metadata": {},
   "outputs": [],
   "source": [
    "A=random_matrix(4,4)\n",
    "A2=A.copy()\n",
    "A_inv = inverse_matrix(A)"
   ]
  },
  {
   "cell_type": "code",
   "execution_count": 39,
   "metadata": {},
   "outputs": [
    {
     "name": "stdout",
     "output_type": "stream",
     "text": [
      "행렬 A\n",
      "[[ 6. 14. 17. 15.]\n",
      " [19.  2.  9.  7.]\n",
      " [ 4. 13. 19.  6.]\n",
      " [ 7. 17. 20.  9.]]\n",
      "\n",
      "A의 역행렬(소수 셋째자리까지 반올림)\n",
      "[[-0.048  0.05  -0.082  0.097]\n",
      " [-0.066 -0.039 -0.237  0.3  ]\n",
      " [ 0.014  0.017  0.237 -0.194]\n",
      " [ 0.132 -0.003 -0.014 -0.098]]\n",
      "\n",
      "행렬과 역행렬의 곱\n",
      "[[ 1.  0. -0.  0.]\n",
      " [-0.  1.  0. -0.]\n",
      " [ 0.  0.  1.  0.]\n",
      " [ 0.  0. -0.  1.]]\n"
     ]
    }
   ],
   "source": [
    "print(\"행렬 A\")\n",
    "print(A)\n",
    "print()\n",
    "print(\"A의 역행렬(소수 셋째자리까지 반올림)\")\n",
    "print(np.around(A_inv,3))\n",
    "print()\n",
    "print(\"행렬과 역행렬의 곱\")\n",
    "print(np.around(np.dot(A,A_inv),3))"
   ]
  },
  {
   "cell_type": "markdown",
   "metadata": {},
   "source": [
    "#### 넘파이 모듈로 역행렬 구하기"
   ]
  },
  {
   "cell_type": "code",
   "execution_count": 38,
   "metadata": {},
   "outputs": [
    {
     "data": {
      "text/plain": [
       "array([[-0.048,  0.05 , -0.082,  0.097],\n",
       "       [-0.066, -0.039, -0.237,  0.3  ],\n",
       "       [ 0.014,  0.017,  0.237, -0.194],\n",
       "       [ 0.132, -0.003, -0.014, -0.098]])"
      ]
     },
     "execution_count": 38,
     "metadata": {},
     "output_type": "execute_result"
    }
   ],
   "source": [
    "np.around(np.linalg.inv(A),3)"
   ]
  },
  {
   "cell_type": "markdown",
   "metadata": {},
   "source": [
    "# \n",
    "# \n",
    "# \n",
    "# \n",
    "# \n",
    "#### 다른 노트에서 정의한 함수"
   ]
  },
  {
   "cell_type": "code",
   "execution_count": 19,
   "metadata": {},
   "outputs": [],
   "source": [
    "#랜덤 행렬 생성(1~20 사이의 정수)\n",
    "def random_matrix(rows,cols, max_no=20):\n",
    "    row_list=[]\n",
    "    for r in range(rows):\n",
    "        col_list=[]\n",
    "        for c in range(cols):\n",
    "            col_list.append(float(random.randint(1,max_no))) #float형으로 변환함\n",
    "        row_list.append(col_list)\n",
    "        \n",
    "    return np.array(row_list) #넘파이 배열 형태로 변환\n",
    "\n",
    "def gauss_jordan_elimination(matrix):\n",
    "    \n",
    "    #행렬의 가로 세로 \n",
    "    mcol = len(matrix[0])\n",
    "    mrow = len(matrix)\n",
    "    row_count = 0 #연산 중인 열을 지시\n",
    "\n",
    "    \n",
    "    \n",
    "    #입력 행렬의 1차 검증 : 값이 모두 0인 열이 있는지 -> 변수의 값을 구할 수 없음\n",
    "    idx = 0\n",
    "    for c in range(mcol): #열\n",
    "        for r in range(mrow): #행\n",
    "            idx += matrix[r][c]\n",
    "\n",
    "        if idx == 0: #첫 열이 모두 0\n",
    "            print(c+1,\"열 의 값이 모두 0입니다.\")\n",
    "            return \n",
    "            \n",
    "    #2차 검증 : 행/열의 갯수\n",
    "        if mrow != mcol - 1: #변수의 갯수(결괏값을 제외한 열의 갯수)와 행의 갯수가 일치하여야 함\n",
    "            print(\"해가 무수히 많거나 없습니다.\")\n",
    "            return \n",
    "\n",
    "        \n",
    "    #1. 가우스 소거법 : Leading 1(선행원소 1)을 찾기 위한 알고리즘\n",
    "    for col_count in range(mcol-1): #선행 원소 아래의 값(열 하단)이 0이 될때까지 반복 수행\n",
    "        comp_num = np.inf # 비교할 숫자의 기본값을 무한대로 지정(보다 작은 수)\n",
    "        \n",
    "        \n",
    "        # 첫 열이 1이거나, 0이 아닌 수 중 가장 작은 행을 추출\n",
    "        for i in range(row_count,mrow):\n",
    "            if (0 < abs(matrix[i][col_count])) & (abs(matrix[i][col_count]) < abs(comp_num)) : \n",
    "                comp_num = matrix[i][col_count] #절댓값이 가장 작은 첫 행의 값\n",
    "\n",
    "                first_row = i #첫 행으로 사용할 행\n",
    "                if matrix[i][0] == 1: #1을 찾은 경우 \n",
    "                    break\n",
    "\n",
    "\n",
    "        matrix[first_row]=matrix[first_row]/comp_num  #첫 행의 첫 열을 1로 변환\n",
    "        matrix[first_row], matrix[row_count] = matrix[row_count].copy(), matrix[first_row].copy() #대상 인덱스와 첫 행을 교환\n",
    "\n",
    "\n",
    "        #선행원소를 1로 만드는 과정\n",
    "        for j in range(row_count+1,mrow):\n",
    "            if matrix[j][col_count] != 0:\n",
    "                con_no = matrix[j][col_count]\n",
    "                matrix[j] = matrix[j] - con_no * matrix[row_count]\n",
    "\n",
    "            \n",
    "        #이미 Leading 1을 찾은 행을 연산에서 제외\n",
    "        row_count += 1\n",
    "\n",
    "        \n",
    "    # 2. Back Substitution(가우스-조르당 소거법) : 기약사다리꼴 형태로 변환\n",
    "    for col in range(mcol-2,0,-1):\n",
    "        for row in range(col-1,-1,-1): #col/row를 파이썬 인덱스에 맞게 적용\n",
    "            const = matrix[row][col] * -1 #constraint\n",
    "            matrix[row] += const * matrix[col]\n",
    "            \n",
    "    return  matrix\n",
    "\n",
    "\n",
    "def det_gauss(matrix_input):\n",
    "    matrix=matrix_input.copy() #기존 배열을 보존하기 위해\n",
    "    dim = len(matrix)\n",
    "    det = 1 #행사다리꼴의 행렬식은 1\n",
    "\n",
    "    row_count = 0\n",
    "    for col_count in range(dim): #선행 원소 아래의 값(열 하단)이 0이 될때까지 반복 수행\n",
    "        comp_num = np.inf # 비교할 숫자의 기본값을 무한대로 지정(보다 작은 수)\n",
    "        \n",
    "        \n",
    "        # 첫 열이 1이거나, 0이 아닌 수 중 가장 작은 행을 추출\n",
    "        for i in range(row_count,dim):\n",
    "            if (0 < abs(matrix[i][col_count])) & (abs(matrix[i][col_count]) < abs(comp_num)) : \n",
    "                comp_num = matrix[i][col_count] #절댓값이 가장 작은 첫 행의 값\n",
    "\n",
    "                first_row = i #첫 행으로 사용할 행\n",
    "                if matrix[i][0] == 1: #1을 찾은 경우 \n",
    "                    break\n",
    "                    \n",
    "            \n",
    "\n",
    "        \n",
    "        matrix[first_row]=matrix[first_row]/comp_num  #첫 행의 첫 열을 1로 변환\n",
    "        #print(round(comp_num,3), \"만큼 상수배 적용\")\n",
    "        det *= comp_num #상수배 만큼 적용\n",
    "        \n",
    "        if first_row != row_count:\n",
    "            det *= -1\n",
    "            #print(first_row+1,\"행이\", row_count+1,\"행과 교환\")\n",
    "            matrix[first_row], matrix[row_count] = matrix[row_count].copy(), matrix[first_row].copy() #대상 인덱스와 첫 행을 교환\n",
    "        \n",
    "        #first_row가 첫 행을 가리키지 않으면 첫 행과 다른 행이 1회 행교환되었으므로 부호가 음수가 됨\n",
    "\n",
    "            \n",
    "        #상수배 후 덧셈연산(행렬식에 영향을 주지 않음)\n",
    "        for j in range(row_count+1,dim):\n",
    "            if matrix[j][col_count] != 0:\n",
    "                con_no = matrix[j][col_count]\n",
    "                matrix[j] = matrix[j] - con_no * matrix[row_count]\n",
    "                \n",
    "        row_count += 1\n",
    "\n",
    "        \n",
    "    return det"
   ]
  },
  {
   "cell_type": "code",
   "execution_count": null,
   "metadata": {},
   "outputs": [],
   "source": []
  }
 ],
 "metadata": {
  "kernelspec": {
   "display_name": "Python 3",
   "language": "python",
   "name": "python3"
  },
  "language_info": {
   "codemirror_mode": {
    "name": "ipython",
    "version": 3
   },
   "file_extension": ".py",
   "mimetype": "text/x-python",
   "name": "python",
   "nbconvert_exporter": "python",
   "pygments_lexer": "ipython3",
   "version": "3.6.9"
  }
 },
 "nbformat": 4,
 "nbformat_minor": 4
}
