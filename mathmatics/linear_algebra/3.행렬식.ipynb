{
 "cells": [
  {
   "cell_type": "markdown",
   "metadata": {},
   "source": [
    "###### 겨리 - 2021/01/13\n",
    "### **행렬식(Determinant)**\n",
    "#### 1. 라이프니츠 공식\n",
    "#### 2. 여인수 전개(라플라스 전개)\n",
    "#### 3. 행렬식의 성질과 가우스 소거법 이용한 행렬식의 도출(기본행연산)\n",
    "\n",
    "##### 코드 설명\n",
    "###### 라이프니츠 공식(https://gyeo-ri.com/59)\n",
    "###### 여인수 전개(https://gyeo-ri.tistory.com/)\n",
    "###### 행렬식의 성질과 가우스 소거법 이용한 행렬식의 도출(https://gyeo-ri.tistory.com/)\n",
    "##### \n",
    "##### *모든 함수는 입력되는 행렬이 정방행렬임을 가정\n",
    "##### * 0행이 한 줄이라도 있으면 Det(A) = 0이며 비가역행렬이다."
   ]
  },
  {
   "cell_type": "code",
   "execution_count": 3,
   "metadata": {},
   "outputs": [],
   "source": [
    "import random\n",
    "import numpy as np"
   ]
  },
  {
   "attachments": {
    "b37b2094-9133-4ca0-9465-8ba705f28087.png": {
     "image/png": "[encoded data removed]"
    }
   },
   "cell_type": "markdown",
   "metadata": {},
   "source": [
    "# \n",
    "### 1.라이프니츠 공식을 이용한 행렬식의 정의\n",
    "##### 치환(순열)을 사용한 정의\n",
    "\n",
    "![image.png](attachment:b37b2094-9133-4ca0-9465-8ba705f28087.png)"
   ]
  },
  {
   "cell_type": "markdown",
   "metadata": {},
   "source": [
    "#### 치환(Permutation = 순열)\n",
    "##### 원소들의 순서를 바꾸어 재배열하는 것"
   ]
  },
  {
   "cell_type": "code",
   "execution_count": 4,
   "metadata": {},
   "outputs": [],
   "source": [
    "#랜덤 행렬 생성(1~20 사이의 정수)\n",
    "def random_matrix(rows,cols, max_no=10):\n",
    "    row_list=[]\n",
    "    for r in range(rows):\n",
    "        col_list=[]\n",
    "        for c in range(cols):\n",
    "            col_list.append(float(random.randint(0,max_no))) #float형으로 변환함\n",
    "        row_list.append(col_list)\n",
    "        \n",
    "    return np.array(row_list) #넘파이 배열 형태로 변환\n",
    "\n",
    "A=random_matrix(2,2)"
   ]
  },
  {
   "cell_type": "code",
   "execution_count": 5,
   "metadata": {},
   "outputs": [],
   "source": [
    "def permutation(array, k):\n",
    "    order = [] #순서쌍을 담을 공간\n",
    "    n = len(array)\n",
    "    \n",
    "    if k == 1:\n",
    "        for element in array: #원소가 최종적으로 하나만 남는 경우\n",
    "            order.append([element])\n",
    "\n",
    "    elif k > 1:\n",
    "        for i in range(n):\n",
    "            A = array.copy()\n",
    "            element = A.pop(i)\n",
    "\n",
    "\n",
    "            for sub in permutation(A,k-1): #재귀함수의 결과를 순차적으로 추출\n",
    "                #입력된 변수의 결과를 sub에 순차적으로 출력하나, 도중에 하위 재귀를 만났을때는 하위재귀부터 처리함(if k==1이 아닌 경우)\n",
    "                order.append([element]+sub)    \n",
    "    return  order"
   ]
  },
  {
   "cell_type": "code",
   "execution_count": 6,
   "metadata": {},
   "outputs": [],
   "source": [
    "def determinant(matrix):\n",
    "    #행렬식 추출하기\n",
    "    dim = len(matrix)\n",
    "\n",
    "    det = 0 \n",
    "\n",
    "    for sigma_i in  permutation(list(range(dim)),dim): #순열 가짓수만큼 시행\n",
    "\n",
    "        sgn_sigma, fact, cnt = 1, 1,0 #sgn_sigma : 홀치환/짝치환 결과, fact : 각 원소들의 계승, cnt :각 순열의 치환 횟수을 집계\n",
    "        for ai in range(dim): #1열부터 sigma 함수 적용\n",
    "            cnt += sum([sigma_i[ai] > sigma_i[num] for num in range(ai, dim)]) #각 원소의 치환 횟수를 집계\n",
    "            fact *= A[ai][sigma_i[ai]] #원소끼리 곱셈(계승)\n",
    "\n",
    "        sgn_sigma *= (-1)**cnt #홀치환이면 음수, 짝치환이면 양수 부여\n",
    "\n",
    "\n",
    "        det += fact *sgn_sigma #행렬식 계산\n",
    "        \n",
    "    return det"
   ]
  },
  {
   "cell_type": "code",
   "execution_count": 7,
   "metadata": {},
   "outputs": [
    {
     "name": "stdout",
     "output_type": "stream",
     "text": [
      "[[ 4. 10.  0.]\n",
      " [ 6.  8.  7.]\n",
      " [ 6.  1. 10.]]\n"
     ]
    }
   ],
   "source": [
    "A=random_matrix(3,3)\n",
    "print(A)"
   ]
  },
  {
   "cell_type": "code",
   "execution_count": 8,
   "metadata": {},
   "outputs": [
    {
     "data": {
      "text/plain": [
       "112.0"
      ]
     },
     "execution_count": 8,
     "metadata": {},
     "output_type": "execute_result"
    }
   ],
   "source": [
    "determinant(A)"
   ]
  },
  {
   "cell_type": "markdown",
   "metadata": {},
   "source": [
    "#### 행렬식을 같이 추출하는 함수"
   ]
  },
  {
   "cell_type": "code",
   "execution_count": 16,
   "metadata": {},
   "outputs": [],
   "source": [
    "def determinant_calculation(matrix):\n",
    "    #행렬식 추출하기\n",
    "    dim = len(matrix)\n",
    "    det = 0 \n",
    "    temp_list_2 = []\n",
    "    \n",
    "    \n",
    "    print(\"Matrix : \\n\", matrix, \"\\n\")\n",
    "    for sigma_i in  permutation(list(range(dim)),dim): #순열 가짓수만큼 시행\n",
    "        temp_list = []\n",
    "        sgn_sigma, fact, cnt = 1, 1,0 #sgn_sigma : 홀치환/짝치환 결과, fact : 각 원소들의 계승, cnt :각 순열의 치환 횟수을 집계\n",
    "        for ai in range(dim): #1열부터 sigma 함수 적용\n",
    "            cnt += sum([sigma_i[ai] > sigma_i[num] for num in range(ai, dim)]) #각 원소의 치환 횟수를 집계\n",
    "            fact *= matrix[ai][sigma_i[ai]] #원소끼리 곱셈(계승)\n",
    "            \n",
    "            temp_list.append(matrix[ai][sigma_i[ai]])\n",
    "            \n",
    "        sgn_sigma *= (-1)**cnt #홀치환이면 음수, 짝치환이면 양수 부여\n",
    "        temp_list.append(sgn_sigma)\n",
    "        \n",
    "        temp_list_2.append(temp_list)\n",
    "\n",
    "        det += fact *sgn_sigma #행렬식 계산\n",
    "    \n",
    "    print(\"Calculation = \", end = \"\")\n",
    "    for row in temp_list_2[:-1]:\n",
    "        print(\"(\"+str(row[-1])+\") * (\" , end=\"\")\n",
    "        [print(int(num), end = \" * \") for num in row[:-2]]\n",
    "        print(int(row[-2]), end = \"\")\n",
    "        print(\")\", end = \" + \")\n",
    "    \n",
    "    last_row = temp_list_2[-1]\n",
    "    print(\"(\"+str(last_row[-1])+\") * (\" , end=\"\")\n",
    "    [print(int(num), end = \" * \") for num in last_row[:-2]]\n",
    "    print(int(last_row[-2]), end=\"\")\n",
    "    print(\")\")\n",
    "    print(\"Det(B) :\",det)\n",
    "    \n",
    "    return "
   ]
  },
  {
   "cell_type": "code",
   "execution_count": 30,
   "metadata": {},
   "outputs": [],
   "source": [
    "B=random_matrix(3,3)"
   ]
  },
  {
   "cell_type": "code",
   "execution_count": 31,
   "metadata": {},
   "outputs": [
    {
     "name": "stdout",
     "output_type": "stream",
     "text": [
      "Matrix : \n",
      " [[0. 9. 3.]\n",
      " [8. 8. 0.]\n",
      " [9. 2. 5.]] \n",
      "\n",
      "Calculation = (1) * (0 * 8 * 5) + (-1) * (0 * 0 * 2) + (-1) * (9 * 8 * 5) + (1) * (9 * 0 * 9) + (1) * (3 * 8 * 2) + (-1) * (3 * 8 * 9)\n",
      "Det(B) : -528.0\n"
     ]
    }
   ],
   "source": [
    "determinant_calculation(B)"
   ]
  },
  {
   "cell_type": "code",
   "execution_count": 32,
   "metadata": {},
   "outputs": [
    {
     "data": {
      "text/plain": [
       "-528.0"
      ]
     },
     "execution_count": 32,
     "metadata": {},
     "output_type": "execute_result"
    }
   ],
   "source": [
    "np.linalg.det(B)"
   ]
  },
  {
   "cell_type": "markdown",
   "metadata": {},
   "source": [
    "# \n",
    "### 2.여인수 전개(cofactor expansion)\n",
    "##### 여인수(cofactor) : 특정 원소가 속한 행/열을 제외한 부분행렬의 행렬식(소행렬식)에 (행/열의 위치에 따라)부호를 부여한 것\n",
    "##### 라이프니츠 공식에 따라 전개된 행렬식을 원소와 소행렬식(Minor), 부호함수로 재구성하여 계산을 용이하게 함"
   ]
  },
  {
   "cell_type": "code",
   "execution_count": 116,
   "metadata": {},
   "outputs": [],
   "source": [
    "A=random_matrix(4,4)"
   ]
  },
  {
   "cell_type": "code",
   "execution_count": 86,
   "metadata": {},
   "outputs": [
    {
     "data": {
      "text/plain": [
       "2710.000000000001"
      ]
     },
     "execution_count": 86,
     "metadata": {},
     "output_type": "execute_result"
    }
   ],
   "source": [
    "np.linalg.det(A)"
   ]
  },
  {
   "cell_type": "code",
   "execution_count": 87,
   "metadata": {},
   "outputs": [
    {
     "data": {
      "text/plain": [
       "array([[ 2.,  0.,  6.,  7.],\n",
       "       [ 4.,  8.,  2.,  5.],\n",
       "       [10.,  1.,  9.,  2.],\n",
       "       [ 3.,  5., 10.,  8.]])"
      ]
     },
     "execution_count": 87,
     "metadata": {},
     "output_type": "execute_result"
    }
   ],
   "source": [
    "A"
   ]
  },
  {
   "cell_type": "code",
   "execution_count": 88,
   "metadata": {},
   "outputs": [],
   "source": [
    "def det_cofactor(matrix): #1행전개로 구현\n",
    "    \n",
    "    det = 0 #결과를 담을 객체\n",
    "    dim = len(matrix)\n",
    "    \n",
    "    if dim == 2: #2차 행렬일 때는 ad-bc 수행\n",
    "        \n",
    "        det = matrix[0][0]*matrix[1][1] - matrix[1][0]*matrix[0][1] \n",
    "        return det\n",
    "    \n",
    "    else : \n",
    "        \n",
    "        for col in range(dim):\n",
    "            #원소 a 추출\n",
    "            a = matrix[0][col]\n",
    "\n",
    "            #소행렬식 M 추출\n",
    "            partial = np.delete(matrix,0,axis=0) #1행전개\n",
    "            partial = np.delete(partial,col,axis=1)\n",
    "            \n",
    "            M = det_cofactor(partial) #재귀함수\n",
    "\n",
    "            sgn = (-1)**(col)\n",
    "            # 부호(실제 파이썬 인덱스는 0부터 시작하므로, 1행과 k열의 숫자 합은 col 변수와 동일한 홀/짝의 성질을 가짐)\n",
    "            det += a*sgn*M\n",
    "\n",
    "    return det"
   ]
  },
  {
   "cell_type": "code",
   "execution_count": 89,
   "metadata": {},
   "outputs": [
    {
     "data": {
      "text/plain": [
       "2710.0"
      ]
     },
     "execution_count": 89,
     "metadata": {},
     "output_type": "execute_result"
    }
   ],
   "source": [
    "det_cofactor(A)"
   ]
  },
  {
   "cell_type": "markdown",
   "metadata": {},
   "source": [
    "# \n",
    "### 3.가우스 소거법을 이용한 행렬식 계산\n",
    "#### 기본행 연산과 그 결과로 도출된 행사다리꼴의 행렬식의 성질을 이용\n",
    "#### (1) 기본행 연산 :\n",
    "##### - 행의 상수배 시 행렬식에도 상수배가 적용\n",
    "##### - 행교환 연산 시 호환(교환) 횟수가 1이므로 행렬식은 -|A|가 됨\n",
    "##### - 행의 (상수배 후) 덧셈 연산 시 행렬식에는 변화가 없음\n",
    "#### (2) 가우스 소거법 : 행렬을 기본행 연산을 통해 선행원소가 1인 행사다리꼴(=상삼각행렬)로 변환\n",
    "##### - 기본행연산의 발생을 기록\n",
    "##### - 가우스 소거법의 결과로 도출된 행렬의 행렬식(행사다리꼴의 행렬식)은 1이므로, 기본행연산에 따른 기존 행렬식의 변화가 "
   ]
  },
  {
   "cell_type": "code",
   "execution_count": 187,
   "metadata": {},
   "outputs": [],
   "source": [
    "def det_gauss(matrix_input):\n",
    "    matrix=matrix_input.copy() #기존 배열을 보존하기 위해\n",
    "    dim = len(matrix)\n",
    "    det = 1 #행사다리꼴의 행렬식은 1\n",
    "\n",
    "    row_count = 0\n",
    "    for col_count in range(dim): #선행 원소 아래의 값(열 하단)이 0이 될때까지 반복 수행\n",
    "        comp_num = np.inf # 비교할 숫자의 기본값을 무한대로 지정(보다 작은 수)\n",
    "        \n",
    "        \n",
    "        # 첫 열이 1이거나, 0이 아닌 수 중 가장 작은 행을 추출\n",
    "        for i in range(row_count,dim):\n",
    "            if (0 < abs(matrix[i][col_count])) & (abs(matrix[i][col_count]) < abs(comp_num)) : \n",
    "                comp_num = matrix[i][col_count] #절댓값이 가장 작은 첫 행의 값\n",
    "\n",
    "                first_row = i #첫 행으로 사용할 행\n",
    "                if matrix[i][0] == 1: #1을 찾은 경우 \n",
    "                    break\n",
    "                    \n",
    "            \n",
    "\n",
    "        \n",
    "        matrix[first_row]=matrix[first_row]/comp_num  #첫 행의 첫 열을 1로 변환\n",
    "        #print(round(comp_num,3), \"만큼 상수배 적용\")\n",
    "        det *= comp_num #상수배 만큼 적용\n",
    "        \n",
    "        if first_row != row_count:\n",
    "            det *= -1\n",
    "            #print(first_row+1,\"행이\", row_count+1,\"행과 교환\")\n",
    "            matrix[first_row], matrix[row_count] = matrix[row_count].copy(), matrix[first_row].copy() #대상 인덱스와 첫 행을 교환\n",
    "        \n",
    "        #first_row가 첫 행을 가리키지 않으면 첫 행과 다른 행이 1회 행교환되었으므로 부호가 음수가 됨\n",
    "\n",
    "            \n",
    "        #상수배 후 덧셈연산(행렬식에 영향을 주지 않음)\n",
    "        for j in range(row_count+1,dim):\n",
    "            if matrix[j][col_count] != 0:\n",
    "                con_no = matrix[j][col_count]\n",
    "                matrix[j] = matrix[j] - con_no * matrix[row_count]\n",
    "                \n",
    "        row_count += 1\n",
    "\n",
    "        \n",
    "    return det\n",
    "    "
   ]
  },
  {
   "cell_type": "code",
   "execution_count": 182,
   "metadata": {},
   "outputs": [
    {
     "data": {
      "text/plain": [
       "array([[ 8.,  2.,  5.,  6.],\n",
       "       [ 6.,  8., 10.,  1.],\n",
       "       [ 1.,  6., 10.,  4.],\n",
       "       [ 2.,  3., 10.,  1.]])"
      ]
     },
     "execution_count": 182,
     "metadata": {},
     "output_type": "execute_result"
    }
   ],
   "source": [
    "A"
   ]
  },
  {
   "cell_type": "code",
   "execution_count": 183,
   "metadata": {},
   "outputs": [
    {
     "name": "stdout",
     "output_type": "stream",
     "text": [
      "1.0 만큼 상수배 적용\n",
      "3 행이 1 행과 교환\n",
      "-9.0 만큼 상수배 적용\n",
      "4 행이 2 행과 교환\n",
      "-18.889 만큼 상수배 적용\n",
      "4 행이 3 행과 교환\n",
      "11.324 만큼 상수배 적용\n"
     ]
    },
    {
     "data": {
      "text/plain": [
       "-1924.9999999999998"
      ]
     },
     "execution_count": 183,
     "metadata": {},
     "output_type": "execute_result"
    }
   ],
   "source": [
    "det_gauss(A)"
   ]
  },
  {
   "cell_type": "code",
   "execution_count": 184,
   "metadata": {},
   "outputs": [],
   "source": [
    "#### 구현한 세개의 함수와 넘파이 메소드의 결과 비교\n",
    "##### 소수점 연산을 하는 일부 함수(넘파이 모듈 포함)의 경우 정확한 값을 반환하지 못할 때가 있음\n",
    "##### 행렬의 모든 원소가 정수일 경우 행렬식은 항상 정수(라이프니츠 공식에서 나눗셈을 하지 않음)\n",
    "##### 정수가 아닌 실수를 포함하는 행렬일 경우 round를 적절히 조정할 필요가 있음"
   ]
  },
  {
   "cell_type": "code",
   "execution_count": 188,
   "metadata": {},
   "outputs": [],
   "source": [
    "det_0=round(determinant(A))\n",
    "det_1=round(det_cofactor(A))\n",
    "det_2=round(det_gauss(A))\n",
    "det_3=round(np.linalg.det(A))"
   ]
  },
  {
   "cell_type": "code",
   "execution_count": 189,
   "metadata": {},
   "outputs": [
    {
     "name": "stdout",
     "output_type": "stream",
     "text": [
      "라이프니츠 공식 : -1925.0\n",
      "여인수 전개 : -1925.0\n",
      "가우스 소거법 : -1925.0\n",
      "Numpy 메소드 : -1925.0\n"
     ]
    }
   ],
   "source": [
    "print(\"라이프니츠 공식 :\",det_0)\n",
    "print(\"여인수 전개 :\",det_1)\n",
    "print(\"가우스 소거법 :\",det_2)\n",
    "print(\"Numpy 메소드 :\",det_3)"
   ]
  },
  {
   "cell_type": "markdown",
   "metadata": {},
   "source": [
    "#### 모두 동일한 값을 반환함을 확인"
   ]
  },
  {
   "cell_type": "code",
   "execution_count": 207,
   "metadata": {},
   "outputs": [],
   "source": [
    "import time"
   ]
  },
  {
   "cell_type": "code",
   "execution_count": 230,
   "metadata": {},
   "outputs": [
    {
     "data": {
      "text/plain": [
       "array([[ 0.,  3.,  2.,  6.,  5.,  1.,  7.,  3.,  0.,  0.],\n",
       "       [10.,  1.,  4.,  2., 10.,  5.,  3.,  1.,  2.,  6.],\n",
       "       [ 1.,  6.,  2.,  5.,  5.,  2., 10.,  6.,  6.,  7.],\n",
       "       [ 4.,  0.,  3.,  9.,  9.,  2.,  0.,  7.,  9.,  6.],\n",
       "       [ 3.,  5.,  3.,  2.,  1.,  9.,  5.,  3.,  5.,  9.],\n",
       "       [ 1.,  6.,  1.,  8.,  5.,  5.,  1.,  9.,  3., 10.],\n",
       "       [ 0.,  8., 10.,  6.,  2.,  1.,  6.,  5.,  8.,  7.],\n",
       "       [ 8.,  1.,  4., 10.,  7.,  7.,  3.,  6.,  2.,  9.],\n",
       "       [ 9.,  3.,  9.,  1.,  3.,  5.,  7.,  8.,  8.,  2.],\n",
       "       [ 1.,  9.,  7.,  6.,  2.,  2.,  1.,  6.,  0.,  7.]])"
      ]
     },
     "execution_count": 230,
     "metadata": {},
     "output_type": "execute_result"
    }
   ],
   "source": [
    "A"
   ]
  },
  {
   "cell_type": "code",
   "execution_count": 221,
   "metadata": {},
   "outputs": [],
   "source": [
    "A=random_matrix(10,10)"
   ]
  },
  {
   "cell_type": "code",
   "execution_count": 231,
   "metadata": {},
   "outputs": [
    {
     "name": "stdout",
     "output_type": "stream",
     "text": [
      "라이프니츠 공식 : 65.2468936443s\n",
      "여인수 전개 : 37.1418597698s\n",
      "가우스 소거법 : 0.0005879402s\n",
      "Numpy 메소드 : 7.79629e-05s\n"
     ]
    }
   ],
   "source": [
    "a=time.time()\n",
    "det_0=round(determinant(A))\n",
    "b=time.time()\n",
    "print(\"라이프니츠 공식 :\", str(round(b-a,10))+\"s\")\n",
    "a=time.time()\n",
    "det_1=round(det_cofactor(A))\n",
    "b=time.time()\n",
    "print(\"여인수 전개 :\", str(round(b-a,10))+\"s\")\n",
    "a=time.time()\n",
    "det_2=round(det_gauss(A))\n",
    "b=time.time()\n",
    "print(\"가우스 소거법 :\", str(round(b-a,10))+\"s\")\n",
    "a=time.time()\n",
    "det_3=round(np.linalg.det(A))\n",
    "b=time.time()\n",
    "print(\"Numpy 메소드 :\", str(round(b-a,10))+\"s\")"
   ]
  },
  {
   "cell_type": "code",
   "execution_count": 229,
   "metadata": {},
   "outputs": [
    {
     "data": {
      "text/plain": [
       "True"
      ]
     },
     "execution_count": 229,
     "metadata": {},
     "output_type": "execute_result"
    }
   ],
   "source": [
    "det_0==det_1==det_2==det_3"
   ]
  },
  {
   "cell_type": "code",
   "execution_count": 234,
   "metadata": {},
   "outputs": [
    {
     "data": {
      "text/plain": [
       "0.0001"
      ]
     },
     "execution_count": 234,
     "metadata": {},
     "output_type": "execute_result"
    }
   ],
   "source": [
    "round(7.79629e-05,4)"
   ]
  },
  {
   "cell_type": "code",
   "execution_count": null,
   "metadata": {},
   "outputs": [],
   "source": []
  }
 ],
 "metadata": {
  "kernelspec": {
   "display_name": "Python 3",
   "language": "python",
   "name": "python3"
  },
  "language_info": {
   "codemirror_mode": {
    "name": "ipython",
    "version": 3
   },
   "file_extension": ".py",
   "mimetype": "text/x-python",
   "name": "python",
   "nbconvert_exporter": "python",
   "pygments_lexer": "ipython3",
   "version": "3.6.9"
  }
 },
 "nbformat": 4,
 "nbformat_minor": 4
}
