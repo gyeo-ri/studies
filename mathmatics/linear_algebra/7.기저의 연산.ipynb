{
 "cells": [
  {
   "cell_type": "markdown",
   "metadata": {},
   "source": [
    "###### 겨리 - 2020/01/15\n",
    "### **기저(Basis)**\n",
    "#### 기저 : 선형결합을 통해 같은 차원(dimension)의 벡터를 생성하는 선형독립된 벡터의 집합\n",
    "#### 차원 : 기저의 원소 수"
   ]
  },
  {
   "cell_type": "code",
   "execution_count": 62,
   "metadata": {},
   "outputs": [],
   "source": [
    "import numpy as np"
   ]
  },
  {
   "cell_type": "markdown",
   "metadata": {},
   "source": [
    "#### 1. 기저 변환(Change of Basis) : 특정 기저에서 정의된 좌표를 새로운 기저에서의 좌표로 변환\n",
    "##### 표준 단위 벡터(standard unit vector)로 구성된 3차원 기저 E(e1, e2, e3)의 좌표 a(2,3,1 정의)"
   ]
  },
  {
   "cell_type": "code",
   "execution_count": 63,
   "metadata": {},
   "outputs": [],
   "source": [
    "E = np.array([[1., 0., 0.,],[0., 1., 0.],[0. ,0., 1.]]) #(1,0,0), (0,1,0), (0,0,1)인 standard unit vector\n",
    "a = np.array([[2,3,1]]).T #행렬 A의 좌표"
   ]
  },
  {
   "cell_type": "code",
   "execution_count": 64,
   "metadata": {},
   "outputs": [
    {
     "data": {
      "text/plain": [
       "array([[2],\n",
       "       [3],\n",
       "       [1]])"
      ]
     },
     "execution_count": 64,
     "metadata": {},
     "output_type": "execute_result"
    }
   ],
   "source": [
    "a"
   ]
  },
  {
   "cell_type": "markdown",
   "metadata": {},
   "source": [
    "##### a = 2e1 + 3e2 + 1e3 =  2 * (1,0,0) + 3 * (0,1,0) + 1 * (0,0,1)\n",
    "\n",
    "### \n",
    "##### 새로운 기저 B = {v1, v2, v3} 정의 \n",
    "###### v1 = (1,4,2), v2 = (3,1,1), v3 = (1,0,2) #행렬 B의 열방향 읽기"
   ]
  },
  {
   "cell_type": "code",
   "execution_count": 65,
   "metadata": {},
   "outputs": [],
   "source": [
    "B = np.array([[1., 3., 1.,],[4., 1., 0.],[2. ,1., 2.]])  #새로운 기저 B 설정"
   ]
  },
  {
   "cell_type": "markdown",
   "metadata": {},
   "source": [
    "##### 기저 변환 공식 : y(새 좌표) = B^-1(새 기저의 역행렬) * A(기존 기저) * a(기존 좌표) #표기 한계로 A,B로 표기"
   ]
  },
  {
   "cell_type": "code",
   "execution_count": 69,
   "metadata": {},
   "outputs": [],
   "source": [
    "def change_of_basis(new_basis, old_basis, old_coord): #기존 기저, 기존 좌표, 변환될 좌표의 기저\n",
    "        \n",
    "    new_coord = np.dot(np.linalg.inv(new_basis),old_basis) #변환할 기저 x 기존의 기저 \n",
    "    new_coord = np.dot(new_coord,old_coord) # x 기존 좌표 = 새 좌표\n",
    "        \n",
    "    return new_coord\n",
    "    "
   ]
  },
  {
   "cell_type": "markdown",
   "metadata": {},
   "source": [
    "##### 표준 단위 벡터로 구성된 3차원 기저 E의 좌표 (2,3,1)는"
   ]
  },
  {
   "cell_type": "code",
   "execution_count": 70,
   "metadata": {},
   "outputs": [],
   "source": [
    "y = change_of_basis(B,E,a)"
   ]
  },
  {
   "cell_type": "markdown",
   "metadata": {},
   "source": [
    "##### 새 기저 B = {v1,v2,v3}의 좌표  //v1 = (1,4,2), v2 = (3,1,1), v3 = (1,0,2)\n",
    "##### y = (0.6, 0.6, -0.4)"
   ]
  },
  {
   "cell_type": "markdown",
   "metadata": {},
   "source": [
    "##### n차원 행렬에서 n개의 고유벡터를 추출하지 못하는 경우(특성방정식의 허근, 중근)는 기저변환이 어려움\n",
    "##### 선형사상의 종류 :회전변환, 대칭변환, 상수배변환 등\n",
    "##### 축을 기준으로 상수배하는 변환은 (기저 E를 기준으로) 대각행렬\n",
    "##### -> 다른 기저의 축을 기준으로 상수배하면 해당 기저의 좌표에서 대각행렬이 됨\n"
   ]
  },
  {
   "cell_type": "code",
   "execution_count": null,
   "metadata": {},
   "outputs": [],
   "source": [
    "np.dot(np.linalg.inv(B),a)"
   ]
  },
  {
   "cell_type": "markdown",
   "metadata": {},
   "source": [
    "#### 2. 대각화(Diagonalization)\n",
    "##### 기저 E의 선형사상 A = B(고유 벡터) * D(대각 행렬 = 기저 B의 선형사상) * B^-1\n",
    "##### 고유 벡터 B를 기저로 고윳값만큼  각 축을 상수배하는 선형사상으로 변환"
   ]
  },
  {
   "cell_type": "code",
   "execution_count": 93,
   "metadata": {},
   "outputs": [],
   "source": [
    "A = np.array([[1.,2.,5.],[3.,4.,1.],[1.,2.,4.]]) # 기저 E에서의 선형사상"
   ]
  },
  {
   "cell_type": "code",
   "execution_count": 110,
   "metadata": {},
   "outputs": [
    {
     "data": {
      "text/plain": [
       "array([[7.58442834, 0.        , 0.        ],\n",
       "       [0.        , 0.22068975, 0.        ],\n",
       "       [0.        , 0.        , 1.19488191]])"
      ]
     },
     "execution_count": 110,
     "metadata": {},
     "output_type": "execute_result"
    }
   ],
   "source": [
    "D = np.linalg.eig(A)[0] * E #(대각원소가 고윳값인 대각행렬)\n",
    "D"
   ]
  },
  {
   "cell_type": "code",
   "execution_count": 107,
   "metadata": {},
   "outputs": [],
   "source": [
    "B = np.linalg.eig(A)[1] #선형사상을 대각행렬로 만들 수 있는 (A)의 고유벡터"
   ]
  },
  {
   "cell_type": "code",
   "execution_count": 108,
   "metadata": {},
   "outputs": [
    {
     "data": {
      "text/plain": [
       "array([[1., 2., 5.],\n",
       "       [3., 4., 1.],\n",
       "       [1., 2., 4.]])"
      ]
     },
     "execution_count": 108,
     "metadata": {},
     "output_type": "execute_result"
    }
   ],
   "source": [
    "np.dot(np.dot(B,D),np.linalg.inv(B)) # B * D * D^-1 (행렬곱)의 결과는 A와 같음"
   ]
  },
  {
   "cell_type": "code",
   "execution_count": null,
   "metadata": {},
   "outputs": [],
   "source": [
    "##### P^- A P가 대각행렬이 되게 하는 가역행렬 P가 존재하면 대각행렬\n",
    "##### = n개의 선형독립인 고유벡터가 존재하면\n",
    "##### P의 각 열(=벡터)이 서로 선형 독립이면 P는 가역행렬"
   ]
  },
  {
   "cell_type": "code",
   "execution_count": null,
   "metadata": {},
   "outputs": [],
   "source": [
    "#### A와 B는 닮음 (기저가 다른 동일한 선형사상)\n",
    "##### <-> det(A) = det(B)\n",
    "##### <-> tr(A) = tr(B)\n",
    "##### <=> 특성방정식도 동일 = 고윳값(해)도 동일\n",
    "##### A의 고유벡터 v1 = B의 고유벡터 P^-1 * v2 (기저변환)"
   ]
  }
 ],
 "metadata": {
  "kernelspec": {
   "display_name": "Python 3",
   "language": "python",
   "name": "python3"
  },
  "language_info": {
   "codemirror_mode": {
    "name": "ipython",
    "version": 3
   },
   "file_extension": ".py",
   "mimetype": "text/x-python",
   "name": "python",
   "nbconvert_exporter": "python",
   "pygments_lexer": "ipython3",
   "version": "3.6.9"
  }
 },
 "nbformat": 4,
 "nbformat_minor": 4
}
