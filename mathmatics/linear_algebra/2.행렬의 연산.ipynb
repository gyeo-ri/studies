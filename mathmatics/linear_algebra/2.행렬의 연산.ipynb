{
 "cells": [
  {
   "cell_type": "markdown",
   "metadata": {},
   "source": [
    "###### 겨리 - 2020/12/22\n",
    "### **행렬의 연산**\n",
    "#### 행렬 연산의 파이썬 활용(with. Numpy)\n",
    "#### - 연산 : \n",
    "#####  &nbsp;&nbsp;&nbsp;&nbsp;&nbsp;&nbsp;&nbsp;&nbsp;&nbsp;&nbsp;    1. 행렬의 덧셈\n",
    "#####  &nbsp;&nbsp;&nbsp;&nbsp;&nbsp;&nbsp;&nbsp;&nbsp;&nbsp;&nbsp;    2. 행렬의 스칼라배\n",
    "#####  &nbsp;&nbsp;&nbsp;&nbsp;&nbsp;&nbsp;&nbsp;&nbsp;&nbsp;&nbsp;    3. 행렬의 곱셈"
   ]
  },
  {
   "cell_type": "code",
   "execution_count": 4,
   "metadata": {},
   "outputs": [],
   "source": [
    "import numpy as np\n",
    "import random"
   ]
  },
  {
   "cell_type": "code",
   "execution_count": 5,
   "metadata": {},
   "outputs": [],
   "source": [
    "#랜덤 행렬 생성(1~20 사이의 정수)\n",
    "def random_matrix(rows,cols, max_no=10):\n",
    "    row_list=[]\n",
    "    for r in range(rows):\n",
    "        col_list=[]\n",
    "        for c in range(cols):\n",
    "            col_list.append(float(random.randint(0,max_no))) #float형으로 변환함\n",
    "        row_list.append(col_list)\n",
    "        \n",
    "    return np.array(row_list) #넘파이 배열 형태로 변환\n",
    "\n",
    "A=random_matrix(2,2)\n",
    "B=random_matrix(2,2)"
   ]
  },
  {
   "cell_type": "markdown",
   "metadata": {},
   "source": [
    "### 0. 행렬의 정의"
   ]
  },
  {
   "cell_type": "code",
   "execution_count": 6,
   "metadata": {},
   "outputs": [
    {
     "name": "stdout",
     "output_type": "stream",
     "text": [
      "행렬 A는\n",
      "[[ 9. 10.]\n",
      " [ 5.  9.]] \n",
      "\n",
      "행렬 B는\n",
      "[[9. 3.]\n",
      " [1. 5.]]\n"
     ]
    }
   ],
   "source": [
    "print(\"행렬 A는\")\n",
    "print(A, \"\\n\")\n",
    "print(\"행렬 B는\")\n",
    "print(B)"
   ]
  },
  {
   "cell_type": "markdown",
   "metadata": {},
   "source": [
    "# \n",
    "### 1.행렬의 덧셈\n",
    "##### 동일한 위치에 있는 원소끼리 더한다."
   ]
  },
  {
   "cell_type": "code",
   "execution_count": 7,
   "metadata": {},
   "outputs": [
    {
     "name": "stdout",
     "output_type": "stream",
     "text": [
      "[[18. 13.]\n",
      " [ 6. 14.]]\n"
     ]
    }
   ],
   "source": [
    "print(A+B)"
   ]
  },
  {
   "cell_type": "markdown",
   "metadata": {},
   "source": [
    "# \n",
    "### 2. 행렬의 스칼라배\n",
    "##### 모든 원소에 3이 곱해진다."
   ]
  },
  {
   "cell_type": "code",
   "execution_count": 8,
   "metadata": {},
   "outputs": [
    {
     "name": "stdout",
     "output_type": "stream",
     "text": [
      "[[27. 30.]\n",
      " [15. 27.]]\n"
     ]
    }
   ],
   "source": [
    "print(3*A)"
   ]
  },
  {
   "attachments": {
    "99a44bf8-aa4e-42ec-9b0a-d95cc34a9702.png": {
     "image/png": "[encoded data removed]"
    }
   },
   "cell_type": "markdown",
   "metadata": {},
   "source": [
    "# \n",
    "### 3. 행렬의 곱셈\n",
    "![image.png](attachment:99a44bf8-aa4e-42ec-9b0a-d95cc34a9702.png)\n",
    "\n",
    "##### 전제 : 행렬 A의 열 갯수 = 행렬 B의 행 갯수\n",
    "##### 정의 : A x B일 때, A의 i행과 B의 j열을 Dot Product하여 (i,j)에 위치시킨다.\n",
    "##### 실제로는 Dot Product는 아님\n",
    "###### *파이썬에서 일반적으로 배열의 곱을 하면, 각 배열의 동일한 자릿수끼리만 곱해진다."
   ]
  },
  {
   "attachments": {
    "61327877-0fd2-4bea-81cc-78ceb03d52c6.png": {
     "image/png": "[encoded data removed]"
    }
   },
   "cell_type": "markdown",
   "metadata": {},
   "source": [
    "#### 행렬곱 연산의 정확한 정의\n",
    "##### 행렬 A의 a행 벡터 / B의 b열 벡터의 곱(a행벡터를 열벡터로 변환하여 열벡터 x 열벡터 연산 수행)\n",
    "![image.png](attachment:61327877-0fd2-4bea-81cc-78ceb03d52c6.png)"
   ]
  },
  {
   "cell_type": "code",
   "execution_count": 9,
   "metadata": {},
   "outputs": [],
   "source": [
    "def matrix_multiplication(A,B):\n",
    "    n = len(B) #B의 열(= A의 행) 수의 제곱만큼 연산 수행하여 n차 정방행렬 추출\n",
    "    \n",
    "    multiple = np.zeros((n,n))\n",
    "    temp_list=[]\n",
    "    for i in range(n): #A행렬의 행 추출 반복\n",
    "        for j in range(n): #B행렬의 열 추출 반복\n",
    "            temp_var = 0\n",
    "            temp_array = A[i,:] * B[:,j] #A의 i행과 B의 j열을 곱셈(같은 순서를 가진 원소끼리 따로 곱해줌)\n",
    "            for num in temp_array: \n",
    "                temp_var += num #곱해진 원소끼리 모두 더해서 하나의 값을 반환\n",
    "            multiple[i,j] = temp_var #점곱의 결과 행렬의 해당 위치에 배치\n",
    "    return multiple             "
   ]
  },
  {
   "cell_type": "code",
   "execution_count": 10,
   "metadata": {},
   "outputs": [
    {
     "data": {
      "text/plain": [
       "array([[91., 77.],\n",
       "       [54., 60.]])"
      ]
     },
     "execution_count": 10,
     "metadata": {},
     "output_type": "execute_result"
    }
   ],
   "source": [
    "matrix_multiplication(A,B)"
   ]
  },
  {
   "cell_type": "code",
   "execution_count": 11,
   "metadata": {},
   "outputs": [
    {
     "data": {
      "text/plain": [
       "array([[91., 77.],\n",
       "       [54., 60.]])"
      ]
     },
     "execution_count": 11,
     "metadata": {},
     "output_type": "execute_result"
    }
   ],
   "source": [
    "np.dot(A,B)"
   ]
  },
  {
   "cell_type": "markdown",
   "metadata": {},
   "source": [
    "##### Numpy에서 기본적으로 제공하는 np.dot 메소드와 결괏값이 동일하게 나오는 것을 확인"
   ]
  },
  {
   "cell_type": "markdown",
   "metadata": {},
   "source": [
    "# \n",
    "### 4. 단위행렬(항등행렬, Identity Matrix)\n",
    "##### 정사각행렬 중 대각성분은 모두 1이고, 그 외 성분인 모두 0인 행렬)"
   ]
  },
  {
   "cell_type": "code",
   "execution_count": 12,
   "metadata": {},
   "outputs": [],
   "source": [
    "def identity_matrix(dim):\n",
    "    idt_matrix=[]\n",
    "    for i in range(dim):\n",
    "        row = np.zeros(dim) #모든 (나머지) 원소의 값을 0으로\n",
    "        row[i]=1 #(i,i)번째 원소의 값만 1\n",
    "        idt_matrix.append(row)\n",
    "    idt_matrix=np.array(idt_matrix)\n",
    "    return idt_matrix"
   ]
  },
  {
   "cell_type": "code",
   "execution_count": 13,
   "metadata": {},
   "outputs": [
    {
     "data": {
      "text/plain": [
       "array([[1., 0., 0.],\n",
       "       [0., 1., 0.],\n",
       "       [0., 0., 1.]])"
      ]
     },
     "execution_count": 13,
     "metadata": {},
     "output_type": "execute_result"
    }
   ],
   "source": [
    "I = identity_matrix(3)\n",
    "I"
   ]
  },
  {
   "cell_type": "markdown",
   "metadata": {},
   "source": [
    "#### 단위행렬의 성질\n",
    "##### 단위행렬에 (연산 가능한) 행렬 A를 곱한 결과는 A"
   ]
  },
  {
   "cell_type": "code",
   "execution_count": 14,
   "metadata": {},
   "outputs": [
    {
     "data": {
      "text/plain": [
       "array([[4., 3., 1.],\n",
       "       [7., 5., 4.],\n",
       "       [2., 9., 5.]])"
      ]
     },
     "execution_count": 14,
     "metadata": {},
     "output_type": "execute_result"
    }
   ],
   "source": [
    "A=random_matrix(3,3)\n",
    "A"
   ]
  },
  {
   "cell_type": "code",
   "execution_count": 43,
   "metadata": {},
   "outputs": [
    {
     "data": {
      "text/plain": [
       "array([[ 4., 11., 10.],\n",
       "       [ 4., 10., 20.],\n",
       "       [10., 15., 11.]])"
      ]
     },
     "execution_count": 43,
     "metadata": {},
     "output_type": "execute_result"
    }
   ],
   "source": [
    "np.dot(I,A)"
   ]
  },
  {
   "cell_type": "markdown",
   "metadata": {},
   "source": [
    "##### 일반적으로 행렬 곱셈은 교환법칙이 성립하지 않지만 단위행렬의 경우 어느쪽에 위치하여도 같은 결과를 나타냄\n",
    "###### * 단, 행렬 A,I가 n차 정방행렬일 때"
   ]
  },
  {
   "cell_type": "code",
   "execution_count": 44,
   "metadata": {},
   "outputs": [
    {
     "data": {
      "text/plain": [
       "array([[ 4., 11., 10.],\n",
       "       [ 4., 10., 20.],\n",
       "       [10., 15., 11.]])"
      ]
     },
     "execution_count": 44,
     "metadata": {},
     "output_type": "execute_result"
    }
   ],
   "source": [
    "np.dot(A,I)"
   ]
  },
  {
   "cell_type": "markdown",
   "metadata": {},
   "source": [
    "### 4-1. 기본행렬(Elementary Matrix)\n",
    "##### 단위행렬에 기본행연산을 1회 이상 수행한 행렬\n",
    "##### 1. 기본행렬은 n차 정사각행렬(단위행렬의 변형)\n",
    "##### 2. 기본행렬은 선형사상이기도 함\n",
    "##### 3. 기본행렬은 전단사함수이면서 가역행렬 : 단위행렬에서 생성되었으므로"
   ]
  },
  {
   "cell_type": "code",
   "execution_count": 23,
   "metadata": {},
   "outputs": [
    {
     "name": "stdout",
     "output_type": "stream",
     "text": [
      "단위행렬\n",
      "[[1. 0. 0.]\n",
      " [0. 1. 0.]\n",
      " [0. 0. 1.]] \n",
      "\n",
      "1. 행 교환 연산 수행\n",
      "[[0. 1. 0.]\n",
      " [1. 0. 0.]\n",
      " [0. 0. 1.]] \n",
      "\n",
      "2. 상수배 연산 수행\n",
      "[[3. 0. 0.]\n",
      " [0. 1. 0.]\n",
      " [0. 0. 1.]] \n",
      "\n",
      "3.다른 행의 상수배 덧셈 수행\n",
      "[[1. 2. 0.]\n",
      " [0. 1. 0.]\n",
      " [0. 0. 1.]]\n"
     ]
    }
   ],
   "source": [
    "I = identity_matrix(3)\n",
    "print(\"단위행렬\")\n",
    "print(I, \"\\n\")\n",
    "\n",
    "\n",
    "E = I.copy()\n",
    "E[0], E[1] = E[1].copy(), E[0].copy()\n",
    "print(\"1. 행 교환 연산 수행\")\n",
    "print(E, \"\\n\")\n",
    "\n",
    "\n",
    "E = I.copy()\n",
    "E[0] *= 3\n",
    "print(\"2. 상수배 연산 수행\")\n",
    "print(E, \"\\n\")\n",
    "\n",
    "E = I.copy()\n",
    "E[0] += 2*E[1]\n",
    "print(\"3.다른 행의 상수배 덧셈 수행\")\n",
    "print(E)"
   ]
  },
  {
   "cell_type": "markdown",
   "metadata": {},
   "source": [
    "##### 기본행 연산을 수행한 단위행렬에 다른행렬을 곱하면 다른행렬을 단위행 연산한 것과 같음"
   ]
  },
  {
   "cell_type": "code",
   "execution_count": 34,
   "metadata": {},
   "outputs": [
    {
     "name": "stdout",
     "output_type": "stream",
     "text": [
      "변환 전 행렬\n",
      "[[ 8.  0.  7.]\n",
      " [ 4.  2.  5.]\n",
      " [10.  4.  7.]] \n",
      "\n",
      "1.행 교환 연산 수행\n",
      "기본행렬\n",
      "[[0. 1. 0.]\n",
      " [1. 0. 0.]\n",
      " [0. 0. 1.]] \n",
      "\n",
      "변환된 행렬\n",
      "[[ 4.  2.  5.]\n",
      " [ 8.  0.  7.]\n",
      " [10.  4.  7.]] \n",
      " \n",
      "\n",
      "2.상수배 연산 수행\n",
      "기본행렬\n",
      "[[3. 0. 0.]\n",
      " [0. 1. 0.]\n",
      " [0. 0. 1.]] \n",
      "\n",
      "변환된 행렬\n",
      "[[24.  0. 21.]\n",
      " [ 4.  2.  5.]\n",
      " [10.  4.  7.]] \n",
      " \n",
      "\n",
      "3.다른 행의 상수배 덧셈 수행\n",
      "기본행렬\n",
      "[[1. 2. 0.]\n",
      " [0. 1. 0.]\n",
      " [0. 0. 1.]] \n",
      "\n",
      "변환된 행렬\n",
      "[[16.  4. 17.]\n",
      " [ 4.  2.  5.]\n",
      " [10.  4.  7.]]\n"
     ]
    }
   ],
   "source": [
    "print(\"변환 전 행렬\")\n",
    "A=random_matrix(3,3)\n",
    "print(A,\"\\n\") \n",
    "E = I.copy()\n",
    "E[0] += 2*E[1]\n",
    "\n",
    "\n",
    "\n",
    "print(\"1.행 교환 연산 수행\")\n",
    "E = I.copy()\n",
    "E[0], E[1] = E[1].copy(), E[0].copy()\n",
    "print(\"기본행렬\")\n",
    "print(E,\"\\n\")\n",
    "\n",
    "E2 = np.dot(E,A)\n",
    "print(\"변환된 행렬\")\n",
    "print(E2,\"\\n\",\"\\n\")\n",
    "\n",
    "\n",
    "print(\"2.상수배 연산 수행\")\n",
    "E = I.copy()\n",
    "E[0] *= 3\n",
    "print(\"기본행렬\")\n",
    "print(E,\"\\n\")\n",
    "\n",
    "E2 = np.dot(E,A)\n",
    "print(\"변환된 행렬\")\n",
    "print(E2,\"\\n\",\"\\n\")\n",
    "\n",
    "\n",
    "\n",
    "print(\"3.다른 행의 상수배 덧셈 수행\")\n",
    "E = I.copy()\n",
    "E[0] += 2*E[1]\n",
    "print(\"기본행렬\")\n",
    "print(E,\"\\n\")\n",
    "\n",
    "E2 = np.dot(E,A)\n",
    "print(\"변환된 행렬\")\n",
    "print(E2)"
   ]
  },
  {
   "cell_type": "markdown",
   "metadata": {},
   "source": [
    "\n",
    "# \n",
    "### 5. 역행렬(Inverse Matrix)과 영인자(Zero Divisor)\n",
    "#### 1. 역행렬\n",
    "##### A × X = X × A = I(I는 항등행렬)의 조건을 만족하는 행렬 * n차 정사각행렬\n",
    "##### 역행렬은 행렬 A에 대해 하나만 존재함"
   ]
  },
  {
   "attachments": {
    "9b88a8e4-2dc0-4cb5-8e6c-9ad58d114bae.png": {
     "image/png": "[encoded data removed]"
    }
   },
   "cell_type": "markdown",
   "metadata": {},
   "source": [
    "#### 2차 정방행렬의 역행렬 공식 \n",
    "![image.png](attachment:9b88a8e4-2dc0-4cb5-8e6c-9ad58d114bae.png)"
   ]
  },
  {
   "cell_type": "markdown",
   "metadata": {},
   "source": [
    "#### 역행렬 계산 함수 1 : 행렬과 역행렬의 곱과 단위행렬 I를 연립방정식 형태로 푸는 방법"
   ]
  },
  {
   "cell_type": "code",
   "execution_count": 50,
   "metadata": {},
   "outputs": [],
   "source": [
    "def inverse_matrix(matrix):\n",
    "    dim = len(A)\n",
    "    queue=[] #확장행렬의 원소나열규칙을 사전에 큐에 저장해두고 하나씩 꺼냄(FIFO)\n",
    "    for i in range(dim):\n",
    "        num = i\n",
    "        for j in range(dim):\n",
    "            queue.append(num)\n",
    "            num +=dim\n",
    "    queue*= dim**2 # n차원 행렬에서 생성되는 확장행렬의 행은 n^2개이며, 각 행마다 n개의 변수가 있으므로 규칙을 확장\n",
    "\n",
    "    #확장행렬을 생성하고 초깃값을 0으로 지정\n",
    "    zero_array = np.zeros((dim**2,dim**2+1))\n",
    "\n",
    "\n",
    "    for row_no in range(dim**2): #결과 행렬의 행 수만큼 반복\n",
    "        temp_row = A[row_no//dim]\n",
    "        for j in range(dim):\n",
    "            idx = queue.pop(0) \n",
    "            zero_array[row_no,idx] = temp_row[j] #i행의 idx열에 대입\n",
    "\n",
    "        if row_no%(dim+1) == 0:  #결괏값인 단위행렬을 연립방정식의 마지막 열에 구현\n",
    "            zero_array[row_no, -1] = 1\n",
    "            \n",
    "    #사전 정의된 가우스-조르당 소거법 함수가 필요\n",
    "    echelon_form=gauss_jordan_elimination(zero_array)\n",
    "    elements=np.array(echelon_form[:,-1])\n",
    "    inverse_matrix=elements.reshape(dim,-1)\n",
    "    return inverse_matrix"
   ]
  },
  {
   "cell_type": "markdown",
   "metadata": {},
   "source": [
    "#### n차원 함수 A를 생성"
   ]
  },
  {
   "cell_type": "code",
   "execution_count": 51,
   "metadata": {},
   "outputs": [
    {
     "data": {
      "text/plain": [
       "array([[14., 12., 12., 20., 20.],\n",
       "       [ 6., 17., 20., 19., 15.],\n",
       "       [ 6.,  1., 18., 15., 19.],\n",
       "       [ 9., 19.,  5., 19., 17.],\n",
       "       [14., 10.,  1.,  3.,  5.]])"
      ]
     },
     "execution_count": 51,
     "metadata": {},
     "output_type": "execute_result"
    }
   ],
   "source": [
    "A=random_matrix(5,5)\n",
    "A"
   ]
  },
  {
   "cell_type": "code",
   "execution_count": 52,
   "metadata": {},
   "outputs": [],
   "source": [
    "#### A의 역행렬 함수인 A_1을 계산"
   ]
  },
  {
   "cell_type": "code",
   "execution_count": 53,
   "metadata": {},
   "outputs": [
    {
     "data": {
      "text/plain": [
       "array([[ 0.13063308, -0.00186068, -0.06103926, -0.09167234,  0.02668482],\n",
       "       [-0.14560926,  0.02795553,  0.03902882,  0.08463808,  0.06249149],\n",
       "       [-0.02886317,  0.0593828 ,  0.02121625, -0.04992058,  0.02641253],\n",
       "       [ 0.33005446,  0.02869299, -0.20507148, -0.13512594, -0.167597  ],\n",
       "       [-0.26681416, -0.07979351,  0.21165192,  0.17846608,  0.09557522]])"
      ]
     },
     "execution_count": 53,
     "metadata": {},
     "output_type": "execute_result"
    }
   ],
   "source": [
    "A_1 = inverse_matrix(A)\n",
    "A_1"
   ]
  },
  {
   "cell_type": "markdown",
   "metadata": {},
   "source": [
    "#### 역행렬 계산함수 2 : 블록행렬(분할행렬)을 사용하는 방법\n",
    "#### 행렬 A를 기본행연산을 통해 단위행렬로 변환하는 과정\n",
    "#### 기본행 연산 E1, E2 ... Ek를 반대로 곱한 것이 역행렬이 됨 -> 구현 X"
   ]
  },
  {
   "cell_type": "code",
   "execution_count": null,
   "metadata": {},
   "outputs": [],
   "source": []
  },
  {
   "cell_type": "markdown",
   "metadata": {},
   "source": [
    "#### 검증, n차 단위행렬 I가 출력됨\n",
    "##### np.round를 하지 않으면 1에 근사한 무리수가 출력됨(파이썬 소수 연산의 제한)\n",
    "##### np.abs를 적용할 필요는 없으나, 깔끔한 표기를 위해 사용"
   ]
  },
  {
   "cell_type": "code",
   "execution_count": 224,
   "metadata": {},
   "outputs": [
    {
     "data": {
      "text/plain": [
       "array([[1., 0., 0., 0., 0.],\n",
       "       [0., 1., 0., 0., 0.],\n",
       "       [0., 0., 1., 0., 0.],\n",
       "       [0., 0., 0., 1., 0.],\n",
       "       [0., 0., 0., 0., 1.]])"
      ]
     },
     "execution_count": 224,
     "metadata": {},
     "output_type": "execute_result"
    }
   ],
   "source": [
    "np.abs(np.round(np.dot(A,A_1)))"
   ]
  },
  {
   "cell_type": "markdown",
   "metadata": {},
   "source": [
    "#### 2. 가역행렬(invertible) : 역행렬이 존재하는 행렬\n",
    "#### 2차 정방행렬의 경우 판별식(determinant) : det(A) = ad-bc != 0 인 경우 가역 행렬, det(A) = |A|로 표기하기도 함\n",
    "##### <-> 비가역행렬(=특이행렬) : 역행렬이 존재하지 않는 행렬\n",
    "##### \n",
    "##### 행렬 A와 B가 가역행렬이라면 AB도 가역행렬, 단, (AB)^(-1) = B^(-1) × A^(-1) (순서가 변함)"
   ]
  },
  {
   "cell_type": "markdown",
   "metadata": {},
   "source": [
    "#### 3. 행렬의 지수\n",
    "##### A^n은 A를 n번 곱한 것\n",
    "##### A^(-1) : A^n의 역행렬 = A^(-1)을 n번 곱한 것  *단 A는 정방행렬(=제곱가능)이면서 가역행렬(=역행렬 존재)"
   ]
  },
  {
   "cell_type": "markdown",
   "metadata": {},
   "source": [
    "##### 기존에 정의했던 함수"
   ]
  },
  {
   "cell_type": "code",
   "execution_count": null,
   "metadata": {},
   "outputs": [],
   "source": []
  },
  {
   "attachments": {
    "7cace3ce-8000-4896-a51d-68f3962ae0f8.png": {
     "image/png": "[encoded data removed]"
    }
   },
   "cell_type": "markdown",
   "metadata": {},
   "source": [
    "### 5. 전치행렬(Transposed Matrix)\n",
    "#### 행렬을 대각선을 기준으로 대칭\n",
    "![image.png](attachment:7cace3ce-8000-4896-a51d-68f3962ae0f8.png)"
   ]
  },
  {
   "attachments": {
    "ccefa844-27c0-4264-8bc2-6d21d3123450.png": {
     "image/png": "[encoded data removed]"
    }
   },
   "cell_type": "markdown",
   "metadata": {},
   "source": [
    "#### 전치행렬의 성질\n",
    "##### 1. 전치를 두 번 하면 원래의 행렬로 돌아감\n",
    "##### 2. (A+B)의 전치행렬과 A, B의 전치행렬의 합은 동일\n",
    "##### 3. 상수배의 위치 교환\n",
    "##### 4. 연산의 교환법칙 성립\n",
    "##### 5. 전치행렬에 가역성 유지\n",
    "\n",
    "![image.png](attachment:ccefa844-27c0-4264-8bc2-6d21d3123450.png)"
   ]
  },
  {
   "cell_type": "code",
   "execution_count": 35,
   "metadata": {},
   "outputs": [
    {
     "data": {
      "text/plain": [
       "array([[ 8.,  0.,  7.],\n",
       "       [ 4.,  2.,  5.],\n",
       "       [10.,  4.,  7.]])"
      ]
     },
     "execution_count": 35,
     "metadata": {},
     "output_type": "execute_result"
    }
   ],
   "source": [
    "A.reshape(len(A),-1)"
   ]
  },
  {
   "cell_type": "markdown",
   "metadata": {},
   "source": [
    "### 6. 대각합(trace) : 정방행렬의 대각성분들의 합\n",
    "##### 1. 대각합  = sum(A[i][i])\n",
    "##### 2. 행렬 A의 대각합과 A의 전치행렬의 대각합은 같음\n",
    "##### 3. 대각합에 상수배를 한 것과 행렬에 상수배하여 대각합을 구한 것은 같음\n",
    "##### 4. 행렬 A와 B의 대각합의 합은 행렬 A+B의 대각합과 같음\n",
    "##### 5. AB의 대각합과 BA의 대각합이 같음\n"
   ]
  },
  {
   "cell_type": "markdown",
   "metadata": {},
   "source": [
    "# \n",
    "# \n",
    "# \n",
    "# \n",
    "# \n",
    "# \n",
    "# \n",
    "# \n",
    "# \n",
    "# \n",
    "# \n",
    "# \n",
    "# "
   ]
  },
  {
   "cell_type": "code",
   "execution_count": 40,
   "metadata": {},
   "outputs": [],
   "source": [
    "#랜덤 행렬 생성(1~20 사이의 정수)\n",
    "def random_matrix(rows,cols, max_no=20):\n",
    "    row_list=[]\n",
    "    for r in range(rows):\n",
    "        col_list=[]\n",
    "        for c in range(cols):\n",
    "            col_list.append(float(random.randint(1,max_no))) #float형으로 변환함\n",
    "        row_list.append(col_list)\n",
    "        \n",
    "    return np.array(row_list) #넘파이 배열 형태로 변환\n",
    "\n",
    "def gauss_jordan_elimination(matrix):\n",
    "    \n",
    "    #행렬의 가로 세로 \n",
    "    mcol = len(matrix[0])\n",
    "    mrow = len(matrix)\n",
    "    row_count = 0 #연산 중인 열을 지시\n",
    "\n",
    "    \n",
    "    \n",
    "    #입력 행렬의 1차 검증 : 값이 모두 0인 열이 있는지 -> 변수의 값을 구할 수 없음\n",
    "    idx = 0\n",
    "    for c in range(mcol): #열\n",
    "        for r in range(mrow): #행\n",
    "            idx += matrix[r][c]\n",
    "\n",
    "        if idx == 0: #첫 열이 모두 0\n",
    "            print(c+1,\"열 의 값이 모두 0입니다.\")\n",
    "            return \n",
    "            \n",
    "    #2차 검증 : 행/열의 갯수\n",
    "        if mrow != mcol - 1: #변수의 갯수(결괏값을 제외한 열의 갯수)와 행의 갯수가 일치하여야 함\n",
    "            print(\"해가 무수히 많거나 없습니다.\")\n",
    "            return \n",
    "\n",
    "        \n",
    "    #1. 가우스 소거법 : Leading 1(선행원소 1)을 찾기 위한 알고리즘\n",
    "    for col_count in range(mcol-1): #선행 원소 아래의 값(열 하단)이 0이 될때까지 반복 수행\n",
    "        comp_num = np.inf # 비교할 숫자의 기본값을 무한대로 지정(보다 작은 수)\n",
    "        \n",
    "        \n",
    "        # 첫 열이 1이거나, 0이 아닌 수 중 가장 작은 행을 추출\n",
    "        for i in range(row_count,mrow):\n",
    "            if (0 < abs(matrix[i][col_count])) & (abs(matrix[i][col_count]) < abs(comp_num)) : \n",
    "                comp_num = matrix[i][col_count] #절댓값이 가장 작은 첫 행의 값\n",
    "\n",
    "                first_row = i #첫 행으로 사용할 행\n",
    "                if matrix[i][0] == 1: #1을 찾은 경우 \n",
    "                    break\n",
    "\n",
    "\n",
    "        matrix[first_row]=matrix[first_row]/comp_num  #첫 행의 첫 열을 1로 변환\n",
    "        matrix[first_row], matrix[row_count] = matrix[row_count].copy(), matrix[first_row].copy() #대상 인덱스와 첫 행을 교환\n",
    "\n",
    "\n",
    "        #선행원소를 1로 만드는 과정\n",
    "        for j in range(row_count+1,mrow):\n",
    "            if matrix[j][col_count] != 0:\n",
    "                con_no = matrix[j][col_count]\n",
    "                matrix[j] = matrix[j] - con_no * matrix[row_count]\n",
    "\n",
    "            \n",
    "        #이미 Leading 1을 찾은 행을 연산에서 제외\n",
    "        row_count += 1\n",
    "\n",
    "        \n",
    "    # 2. Back Substitution(가우스-조르당 소거법) : 기약사다리꼴 형태로 변환\n",
    "    for col in range(mcol-2,0,-1):\n",
    "        for row in range(col-1,-1,-1): #col/row를 파이썬 인덱스에 맞게 적용\n",
    "            const = matrix[row][col] * -1 #constraint\n",
    "            matrix[row] += const * matrix[col]\n",
    "            \n",
    "    return  matrix"
   ]
  },
  {
   "cell_type": "code",
   "execution_count": null,
   "metadata": {},
   "outputs": [],
   "source": []
  }
 ],
 "metadata": {
  "kernelspec": {
   "display_name": "Python 3",
   "language": "python",
   "name": "python3"
  },
  "language_info": {
   "codemirror_mode": {
    "name": "ipython",
    "version": 3
   },
   "file_extension": ".py",
   "mimetype": "text/x-python",
   "name": "python",
   "nbconvert_exporter": "python",
   "pygments_lexer": "ipython3",
   "version": "3.6.9"
  }
 },
 "nbformat": 4,
 "nbformat_minor": 4
}
