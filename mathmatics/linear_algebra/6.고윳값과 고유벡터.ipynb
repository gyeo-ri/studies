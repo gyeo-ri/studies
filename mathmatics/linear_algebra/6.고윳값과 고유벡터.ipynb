{
 "cells": [
  {
   "cell_type": "markdown",
   "metadata": {},
   "source": [
    "###### 겨리 - 2020/01/15\n",
    "### **고윳값과 고유벡터(미완료)**"
   ]
  },
  {
   "cell_type": "markdown",
   "metadata": {},
   "source": [
    "### 1. 고윳값과 고유벡터를 활용한 벡터공간의 변환\n",
    "#### Ax = b와 같은 선형 변환을 데카르트 좌표계(좌표평면 등)가 아닌 벡터의 상수배로 표현할 수 있도록 변환하는 것\n",
    "##### 고유벡터(eigen vector) : 변환에 의해 구성된 새로운 공간(고유공간)의 축 ->\n",
    "##### 고윳값(eigen value) : 벡터의 상수배인 새로운 축을 위한 값\n",
    "###### *엄밀한 정의는 아님(https://ko.wikipedia.org/wiki/%EA%B3%A0%EC%9C%B3%EA%B0%92%EA%B3%BC_%EA%B3%A0%EC%9C%A0_%EB%B2%A1%ED%84%B0 참조)\n",
    "##### 코드 설명\n",
    "###### https://gyeo-ri.com/62"
   ]
  },
  {
   "cell_type": "code",
   "execution_count": 2,
   "metadata": {},
   "outputs": [],
   "source": [
    "import numpy as np\n",
    "import sympy as sym"
   ]
  },
  {
   "cell_type": "markdown",
   "metadata": {},
   "source": [
    "##### 주요 외부 라이브러리\n",
    "##### np.identity : 단위행렬\n",
    "##### sym.symbols : 변수 객체를 지정\n",
    "##### sym.solve : 방정식 풀이"
   ]
  },
  {
   "cell_type": "code",
   "execution_count": 3,
   "metadata": {},
   "outputs": [],
   "source": [
    "A = np.array([[-5.,-4.,2.],[-2., -2.,2.],[4.,2.,2.]])\n",
    "I = np.identity(3)"
   ]
  },
  {
   "cell_type": "markdown",
   "metadata": {},
   "source": [
    "##### 가우스 소거법 형태로 행렬식을 푸는 np.linalg.det는 Symbol 객체를 입력하면 오류가 발생(det_gauss도 마찬가지)\n",
    "##### 행렬식 노트에서 정의하였던 determinant 함수 또는 여인수 전개 기반 det_cofactor 사용(라이프니츠 공식 기반) 사용 가능\n",
    "##### 여인수 전개를 사용했을 때 훨씬 효율적(7차 정방행렬 계산 시 0.4s vs 14s"
   ]
  },
  {
   "cell_type": "code",
   "execution_count": 4,
   "metadata": {},
   "outputs": [],
   "source": [
    "l = sym.symbols('l') #람다 변수 객체 정의\n",
    "matrix_cal = l*I - A #고윳값 계산을 위한 "
   ]
  },
  {
   "cell_type": "code",
   "execution_count": 9,
   "metadata": {},
   "outputs": [
    {
     "data": {
      "text/latex": [
       "$\\displaystyle - 16.0 l + \\left(1.0 l + 5.0\\right) \\left(\\left(1.0 l - 2.0\\right) \\left(1.0 l + 2.0\\right) - 4.0\\right) + 40.0$"
      ],
      "text/plain": [
       "-16.0*l + (1.0*l + 5.0)*((1.0*l - 2.0)*(1.0*l + 2.0) - 4.0) + 40.0"
      ]
     },
     "execution_count": 9,
     "metadata": {},
     "output_type": "execute_result"
    }
   ],
   "source": [
    "equation = det_cofactor(matrix_cal) #특성방정식(가우스 소거법을 사용하는 np.linalg.det는 사용 불가)\n",
    "equation"
   ]
  },
  {
   "cell_type": "markdown",
   "metadata": {},
   "source": [
    "#### 특성방정식 det(lI-A) \n",
    "##### (lI-A)x=O 에서 x가 자명해를 가지기 위해(역행렬의 이항이 가능하면 무수히 많은 해를 가짐)\n",
    "##### 람다에 관현 방정식을 풀면 고윳값을 얻을 수 있음\n",
    "##### 위 코드들을 바탕으로 구현한 eigen_value 출력 함수"
   ]
  },
  {
   "cell_type": "code",
   "execution_count": 302,
   "metadata": {},
   "outputs": [],
   "source": [
    "def eigen_value(matrix):\n",
    "    \n",
    "    dim = len(matrix)\n",
    "    I = np.identity(dim)\n",
    "    \n",
    "    l = sym.symbols('l') #람다 변수 객체 정의\n",
    "    matrix_cal = l*I - A #고윳값 계산을 위한 연립방정식\n",
    "    equation = det_cofactor(matrix_cal) #행렬식으로 변환(가우스 소거법을 사용하는 np.linalg.det는 사용 불가)\n",
    "    \n",
    "    eigen_value = sym.solve(equation)\n",
    "    \n",
    "    return eigen_value"
   ]
  },
  {
   "cell_type": "markdown",
   "metadata": {},
   "source": [
    "##### 실수 및 복소수인 고윳값을 모두 출력함"
   ]
  },
  {
   "cell_type": "code",
   "execution_count": 298,
   "metadata": {},
   "outputs": [
    {
     "data": {
      "text/plain": [
       "[-8.00000000000000, 0.0, 3.00000000000000]"
      ]
     },
     "execution_count": 298,
     "metadata": {},
     "output_type": "execute_result"
    }
   ],
   "source": [
    "A = np.array([[-5.,-4.,2.],[-2., -2.,2.],[4.,2.,2.]])\n",
    "eigen_value(A)"
   ]
  },
  {
   "cell_type": "code",
   "execution_count": 341,
   "metadata": {},
   "outputs": [],
   "source": [
    "def eigen_vector(matrix):\n",
    "    dim = len(matrix)\n",
    "    I = np.identity(dim)\n",
    "    \n",
    "    vector = []\n",
    "    # 고윳값을 하나씩 추출하는 반복문을 아래 모든 구문에 적용\n",
    "    eigenvalues = eigen_value(A)\n",
    "    \n",
    "    print(\"고윳값\")\n",
    "    print(eigenvalues)\n",
    "    for l in eigenvalues :\n",
    "        try :\n",
    "            l = float(l)\n",
    "        except : #복소수 계산기능을 구현하지 못함\n",
    "            return print(\"복소수는 계산할 수 없습니다.\")\n",
    "        flag = 0\n",
    "        matrix_cal = l*I - A\n",
    "    \n",
    "\n",
    "        #입력 행렬의 1차 검증 : 값이 모두 0인 열이 있는지 -> 모두 0인 열이 1열이라면, 이에 대응하는 v1(1,0,0) ... 가 생성\n",
    "        for c in range(dim): #열\n",
    "            if (matrix_cal[:,c] == np.zeros((dim,1),dtype=float)).all():\n",
    "\n",
    "                v = np.zeros((dim,1))\n",
    "                v[c] = 1\n",
    "                vector.append(v)\n",
    "                flag = 1\n",
    "\n",
    "\n",
    "\n",
    "        if flag == 0: # 한 열이 모두 0이 아닌 행렬\n",
    "\n",
    "            #행의 재배치(0)\n",
    "            for row in range(dim):\n",
    "                if (matrix_cal[row] == np.zeros((1,dim),dtype=float)).all():\n",
    "\n",
    "                    #행을 중간에서 빼서 마지막에 넣는 알고리즘\n",
    "                    matrix_cal = np.delete(matrix_cal.copy(),row,axis=0)\n",
    "                    matrix_cal = np.concatenate((matrix_cal,np.zeros((1,dim))))\n",
    "\n",
    "\n",
    "\n",
    "\n",
    "            #1. 가우스 소거법 : Leading 1(선행원소 1)을 찾기 위한 알고리즘\n",
    "            row_count = 0 #연산 중인 열을 지시\n",
    "            for col_count in range(dim-1): #선행 원소 아래의 값(열 하단)이 0이 될때까지 반복 수행\n",
    "                comp_num = np.inf # 비교할 숫자의 기본값을 무한대로 지정(보다 작은 수)\n",
    "\n",
    "\n",
    "                # 첫 열이 1이거나, 0이 아닌 수 중 가장 작은 행을 추출\n",
    "                for i in range(row_count,dim-1):\n",
    "                    if matrix_cal[i][col_count] != 0 : \n",
    "                        comp_num = matrix_cal[i][col_count] #절댓값이 0이 아닌 값을 위로\n",
    "                        first_row = i #첫 행으로 사용할 행\n",
    "                        \n",
    "                        if matrix_cal[i][col_count] == 1.: #1을 찾은 경우 \n",
    "                            comp_num = 1\n",
    "                            break\n",
    "                            \n",
    "                    else : \n",
    "                        comp_num = 1 # 적당한 값이 없을 때는 상수배를 하지 않음\n",
    "\n",
    "                matrix_cal[first_row]/=comp_num  #첫 행의 첫 열을 1로 변환\n",
    "                \n",
    "  \n",
    "                \n",
    "                if first_row != row_count :\n",
    "\n",
    "                    matrix_cal[first_row], matrix_cal[row_count] = matrix_cal[row_count].copy(), matrix_cal[first_row].copy() #대상 인덱스와 첫 행을 교환\n",
    "\n",
    "                    \n",
    "\n",
    "                #상수배 후 덧셈연산\n",
    "                for j in range(row_count+1,dim):\n",
    "                    if matrix_cal[j][col_count] != 0:\n",
    "                        con_no = matrix_cal[j][col_count]\n",
    "                        matrix_cal[j] = matrix_cal[j] - con_no * matrix_cal[row_count]\n",
    "\n",
    "\n",
    "                #이미 Leading 1을 찾은 행을 연산에서 제외\n",
    "                row_count += 1\n",
    "\n",
    "            \n",
    "            #행의 재배치(0)\n",
    "            for row in range(dim):\n",
    "                if (matrix_cal[row] == np.zeros((1,dim),dtype=float)).all():\n",
    "\n",
    "                    #행을 중간에서 빼서 마지막에 넣는 알고리즘\n",
    "                    matrix_cal = np.delete(matrix_cal.copy(),row,axis=0)\n",
    "                    matrix_cal = np.concatenate((matrix_cal,np.zeros((1,dim))))\n",
    "\n",
    "\n",
    "            # 2. Back Substitution(가우스-조르당 소거법) : 기약행사다리꼴 형태로 변환\n",
    "            for col in range(dim-1,0,-1):\n",
    "                for row in range(col-1,-1,-1): #col/row를 파이썬 인덱스에 맞게 적용\n",
    "                    const = matrix_cal[row][col] * -1 #constraint\n",
    "\n",
    "                    matrix_cal[row] += const * matrix_cal[col]\n",
    "\n",
    "\n",
    "\n",
    "            #벡터를 구하는 알고리즘\n",
    "            \n",
    "            \n",
    "            if (matrix_cal[0] != np.zeros((1,dim))).all():\n",
    "                \n",
    "                for m in range(dim-1): #if 긍정조건은 벡터가 반복문마다 하나씩 리턴 / 벡터를 반복문 내부에서 생성\n",
    "                    v = np.zeros((dim,1))\n",
    "                    v[-1] = matrix_cal[0][-1] #첫줄 마지막 원소\n",
    "                    v[m] =  - v[-1]/matrix_cal[0][m]\n",
    "                    vector.append(v) \n",
    "\n",
    "            \n",
    "            \n",
    "            \n",
    "            else :\n",
    "                v = np.zeros((dim,1))\n",
    "                for k in range(dim-1): \n",
    "                    v[-1] = 1.\n",
    "                    x = matrix_cal[k][k].copy()\n",
    "                    end = matrix_cal[k][-1].copy()\n",
    "                    v[k] = (-1) * end/x\n",
    "                vector.append(v) #부정조건은 하나의 벡터만 생성되므로 반복문 외부에서 생성\n",
    "            \n",
    "            \n",
    "    return  vector"
   ]
  },
  {
   "cell_type": "markdown",
   "metadata": {},
   "source": [
    "##### 1.중근을 포함하지 않는 4차 정방행렬로 테스트"
   ]
  },
  {
   "cell_type": "code",
   "execution_count": 344,
   "metadata": {},
   "outputs": [
    {
     "name": "stdout",
     "output_type": "stream",
     "text": [
      "고윳값\n",
      "[-2.00000000000000, -1.00000000000000, 1.00000000000000, 3.00000000000000]\n"
     ]
    },
    {
     "data": {
      "text/plain": [
       "[array([[-0.        ],\n",
       "        [-1.66666667],\n",
       "        [ 5.        ],\n",
       "        [ 1.        ]]),\n",
       " array([[0.],\n",
       "        [0.],\n",
       "        [1.],\n",
       "        [0.]]),\n",
       " array([[ 0.4],\n",
       "        [-0.4],\n",
       "        [-0.2],\n",
       "        [ 1. ]]),\n",
       " array([[0.],\n",
       "        [0.],\n",
       "        [0.],\n",
       "        [1.]])]"
      ]
     },
     "execution_count": 344,
     "metadata": {},
     "output_type": "execute_result"
    }
   ],
   "source": [
    "A = np.array([[1.,0.,0.,0.],[-3., -2.,0.,0.],[2.,3.,-1.,0.],[-2.,3.,0.,3.]])\n",
    "eigen_vector(A)"
   ]
  },
  {
   "cell_type": "markdown",
   "metadata": {},
   "source": [
    "##### 2. 중근을 포함하는 3차 정방행렬 테스트"
   ]
  },
  {
   "cell_type": "code",
   "execution_count": 343,
   "metadata": {},
   "outputs": [
    {
     "name": "stdout",
     "output_type": "stream",
     "text": [
      "고윳값\n",
      "[-1.00000000000000, 2.00000000000000]\n"
     ]
    },
    {
     "data": {
      "text/plain": [
       "[array([[-1.],\n",
       "        [ 0.],\n",
       "        [ 1.]]),\n",
       " array([[ 0.],\n",
       "        [-1.],\n",
       "        [ 1.]]),\n",
       " array([[1.],\n",
       "        [1.],\n",
       "        [1.]])]"
      ]
     },
     "execution_count": 343,
     "metadata": {},
     "output_type": "execute_result"
    }
   ],
   "source": [
    "A = np.array([[0.,1.,1.],[1., 0.,1.],[1.,1.,0.]])\n",
    "eigen_vector(A)"
   ]
  },
  {
   "cell_type": "markdown",
   "metadata": {},
   "source": [
    "#### 일부 행렬에 대해서는 오류 발생"
   ]
  },
  {
   "cell_type": "markdown",
   "metadata": {},
   "source": [
    "##### \n",
    "##### 실제로는 넘파이 메소드로 매우 쉽게 구할 수 있다. \n",
    "##### 고유벡터의 경우 계산 방법에 의해 값이 다르게 나타날 수 있으며, 정규화하는 것이 일반적이다."
   ]
  },
  {
   "cell_type": "code",
   "execution_count": 345,
   "metadata": {},
   "outputs": [
    {
     "data": {
      "text/plain": [
       "(array([ 3., -1., -2.,  1.]),\n",
       " array([[ 0.        ,  0.        ,  0.        ,  0.34299717],\n",
       "        [ 0.        ,  0.        ,  0.31068488, -0.34299717],\n",
       "        [ 0.        ,  1.        , -0.93205465, -0.17149859],\n",
       "        [ 1.        ,  0.        , -0.18641093,  0.85749293]]))"
      ]
     },
     "execution_count": 345,
     "metadata": {},
     "output_type": "execute_result"
    }
   ],
   "source": [
    "A = np.array([[0.,1.,1.],[1., 0.,1.],[1.,1.,0.]])\n",
    "A = np.array([[1.,0.,0.,0.],[-3., -2.,0.,0.],[2.,3.,-1.,0.],[-2.,3.,0.,3.]])\n",
    "np.linalg.eig(A)"
   ]
  },
  {
   "cell_type": "markdown",
   "metadata": {},
   "source": [
    "##### 행사다리꼴의 영이 아닌 행들은 선형독립이다."
   ]
  },
  {
   "cell_type": "markdown",
   "metadata": {},
   "source": [
    "#### 참고 자료\n",
    "##### sympy 관련 : https://codepractice.tistory.com/73\n",
    "##### 고유벡터 계산기\n",
    "###### https://matrixcalc.org/ko/vectors.html#eigenvectors%28%7B%7B1,0,0,0%7D,%7B-3,-2,0,0%7D,%7B2,3,-1,0%7D,%7B-2,3,0,3%7D%7D%29\n",
    "##### 고유벡터 관련 \n",
    "###### https://m.blog.naver.com/PostView.nhn?blogId=seolgoons&logNo=221330201375&proxyReferer=http:%2F%2F203.233.19.219%2F\n",
    "## \n",
    "## \n",
    "#### 이전 노트에서 정의한 함수"
   ]
  },
  {
   "cell_type": "code",
   "execution_count": 8,
   "metadata": {},
   "outputs": [],
   "source": [
    "def permutation(array, k):\n",
    "    order = [] #순서쌍을 담을 공간\n",
    "    n = len(array)\n",
    "    \n",
    "    if k == 1:\n",
    "        for element in array: #원소가 최종적으로 하나만 남는 경우\n",
    "            order.append([element])\n",
    "\n",
    "    elif k > 1:\n",
    "        for i in range(n):\n",
    "            A = array.copy()\n",
    "            element = A.pop(i)\n",
    "\n",
    "\n",
    "            for sub in permutation(A,k-1): #재귀함수의 결과를 순차적으로 추출\n",
    "                #입력된 변수의 결과를 sub에 순차적으로 출력하나, 도중에 하위 재귀를 만났을때는 하위재귀부터 처리함(if k==1이 아닌 경우)\n",
    "                order.append([element]+sub)    \n",
    "    return  order\n",
    "\n",
    "def det_cofactor(matrix): #1행전개로 구현\n",
    "    \n",
    "    det = 0 #결과를 담을 객체\n",
    "    dim = len(matrix)\n",
    "    \n",
    "    if dim == 2: #2차 행렬일 때는 ad-bc 수행\n",
    "        \n",
    "        det = matrix[0][0]*matrix[1][1] - matrix[1][0]*matrix[0][1] \n",
    "        return det\n",
    "    \n",
    "    else : \n",
    "        \n",
    "        for col in range(dim):\n",
    "            #원소 a 추출\n",
    "            a = matrix[0][col]\n",
    "\n",
    "            #소행렬식 M 추출\n",
    "            partial = np.delete(matrix,0,axis=0) #1행전개\n",
    "            partial = np.delete(partial,col,axis=1)\n",
    "            \n",
    "            M = det_cofactor(partial) #재귀함수\n",
    "\n",
    "            sgn = (-1)**(col)\n",
    "            # 부호(실제 파이썬 인덱스는 0부터 시작하므로, 1행과 k열의 숫자 합은 col 변수와 동일한 홀/짝의 성질을 가짐)\n",
    "            det += a*sgn*M\n",
    "\n",
    "    return det"
   ]
  }
 ],
 "metadata": {
  "kernelspec": {
   "display_name": "Python 3",
   "language": "python",
   "name": "python3"
  },
  "language_info": {
   "codemirror_mode": {
    "name": "ipython",
    "version": 3
   },
   "file_extension": ".py",
   "mimetype": "text/x-python",
   "name": "python",
   "nbconvert_exporter": "python",
   "pygments_lexer": "ipython3",
   "version": "3.6.9"
  }
 },
 "nbformat": 4,
 "nbformat_minor": 4
}
