{
 "cells": [
  {
   "cell_type": "markdown",
   "metadata": {},
   "source": [
    "###### 겨리 - 2020/12/22\n",
    "### **LU분해(LU Decomposition)**\n",
    "#### 해집합을 구하는 효율적인 방법\n",
    "##### - L(Lower triangular matrix) + U(Upper triangular matrix)\n",
    "##### - 단위행렬(I)은 상삼각행렬이면서 하삼각행렬\n",
    "###### &nbsp;&nbsp; 삼각행렬을 사용하면 Back/Forward Substitution 과정이 더 효율적(O(n^2), 일반적인 가우스 조르당 소거법의 경우 O(n^3))\n",
    "##### - 행렬 A를 L(기본행 연산들의 역행렬)과 U(행사다리꼴)의 행렬곱으로 분해\n",
    "###### &nbsp;&nbsp; * LU 분해의 결과는 유일하지 않음\n",
    "##### - LU분해를 전처리 후 방정식을 분산처리할 수 있는 장점이 있음"
   ]
  },
  {
   "cell_type": "code",
   "execution_count": 12,
   "metadata": {},
   "outputs": [],
   "source": [
    "import numpy as np\n",
    "import random"
   ]
  },
  {
   "cell_type": "code",
   "execution_count": 502,
   "metadata": {},
   "outputs": [],
   "source": [
    "A=random_matrix(3,3)"
   ]
  },
  {
   "cell_type": "markdown",
   "metadata": {},
   "source": [
    "#### 기본 성질\n",
    "##### 1. 가우스 소거법 연산에 사용되는 기본행렬(E)은 모두 하삼각행렬이다. #행교환 연산은 제외\n",
    "##### 2. 1의 기본행렬(=하삼각행렬)의 역행렬은 하삼각행렬이다. \n",
    "##### 3. 하삼각행렬끼리의 행렬곱 연산 결과는 하삼각행렬이다.\n",
    "### \n",
    "#### 전개(컴퓨터 연산)\n",
    "##### 1. 행렬 A를 가우스 소거법을 사용하여 행사다리꼴(U)로 분해한다(이때, 다음 계산을 용이하게 하기 위해 U의 선행 원소들을 1로 만들어준다).\n",
    "##### 2. 분해에 사용된 기본행 연산의 역행렬을 기록하여 행렬 L로 정의한다. \n",
    "##### -> 만약 첫 원소가 0일 경우 행교환을 통해 변환(=PLU분해)"
   ]
  },
  {
   "cell_type": "code",
   "execution_count": 523,
   "metadata": {},
   "outputs": [],
   "source": [
    "def lu_decomposition(matrix):\n",
    "    \n",
    "    if len(matrix) == len(matrix[0]):\n",
    "        dim = len(matrix)\n",
    "        L = np.zeros((dim,dim))\n",
    "    else : \n",
    "        print(\"정방행렬이 아닙니다.\")\n",
    "\n",
    "\n",
    "    #첫 원소가 0일 경우 행교환이 필요\n",
    "    while matrix[0][0] == 0:\n",
    "        temp = matrix[0].copy()\n",
    "        matrix[0] = matrix[1].copy()\n",
    "        matrix[1] = temp.copy()\n",
    "    \n",
    "    \n",
    "    U=matrix.copy()\n",
    "    #입력 행렬의 1차 검증 : 값이 모두 0인 열이 있는지 -> 변수의 값을 구할 수 없음\n",
    "    idx = 0\n",
    "    for c in range(mcol): #열\n",
    "        for r in range(mrow): #행\n",
    "            idx += U[r][c]\n",
    "\n",
    "        if idx == 0: #첫 열이 모두 0\n",
    "            print(c+1,\"열 의 값이 모두 0입니다.\")\n",
    "\n",
    "            \n",
    "    for i in range(dim):\n",
    "        ero_product = U[i][i].copy() # Elementary Row Operation\n",
    "        if ero_product == 0:\n",
    "            pass\n",
    "        else :\n",
    "            L[i][i] = ero_product\n",
    "            U[i] /= ero_product\n",
    "            for j in range(i+1,dim):\n",
    "                ero_sum = U[j][i].copy() \n",
    "                L[j][i] = ero_sum\n",
    "                U[j] -= ero_sum*U[i].copy()\n",
    "    \n",
    "    if matrix.all() == np.dot(L,U).all():\n",
    "        print(\"분해 완료\")\n",
    "    else : \n",
    "        print(\"분해 실패\")\n",
    "        return \n",
    "    \n",
    "\n",
    "    return L,U"
   ]
  },
  {
   "cell_type": "code",
   "execution_count": 524,
   "metadata": {},
   "outputs": [
    {
     "data": {
      "text/plain": [
       "array([[20., 19., 19.],\n",
       "       [ 5., 20.,  5.],\n",
       "       [13., 14.,  1.]])"
      ]
     },
     "execution_count": 524,
     "metadata": {},
     "output_type": "execute_result"
    }
   ],
   "source": [
    "A"
   ]
  },
  {
   "cell_type": "code",
   "execution_count": 525,
   "metadata": {},
   "outputs": [
    {
     "name": "stdout",
     "output_type": "stream",
     "text": [
      "분해 완료\n"
     ]
    }
   ],
   "source": [
    "L,U= lu_decomposition(A)"
   ]
  },
  {
   "cell_type": "code",
   "execution_count": 526,
   "metadata": {},
   "outputs": [
    {
     "data": {
      "text/plain": [
       "array([[ 20.        ,   0.        ,   0.        ],\n",
       "       [  5.        ,  15.25      ,   0.        ],\n",
       "       [ 13.        ,   1.65      , -11.37704918]])"
      ]
     },
     "execution_count": 526,
     "metadata": {},
     "output_type": "execute_result"
    }
   ],
   "source": [
    "L #하삼각행렬 = 기본행 연산들의 행렬곱의 역행렬"
   ]
  },
  {
   "cell_type": "code",
   "execution_count": 527,
   "metadata": {},
   "outputs": [
    {
     "data": {
      "text/plain": [
       "array([[ 1.        ,  0.95      ,  0.95      ],\n",
       "       [ 0.        ,  1.        ,  0.01639344],\n",
       "       [-0.        , -0.        ,  1.        ]])"
      ]
     },
     "execution_count": 527,
     "metadata": {},
     "output_type": "execute_result"
    }
   ],
   "source": [
    "U #상삼각행렬 = Back Substitution 이전의 행사다리꼴(해 제외)"
   ]
  },
  {
   "cell_type": "code",
   "execution_count": 528,
   "metadata": {},
   "outputs": [
    {
     "data": {
      "text/plain": [
       "array([[20., 19., 19.],\n",
       "       [ 5., 20.,  5.],\n",
       "       [13., 14.,  1.]])"
      ]
     },
     "execution_count": 528,
     "metadata": {},
     "output_type": "execute_result"
    }
   ],
   "source": [
    "A"
   ]
  },
  {
   "cell_type": "code",
   "execution_count": 529,
   "metadata": {},
   "outputs": [
    {
     "data": {
      "text/plain": [
       "array([[20., 19., 19.],\n",
       "       [ 5., 20.,  5.],\n",
       "       [13., 14.,  1.]])"
      ]
     },
     "execution_count": 529,
     "metadata": {},
     "output_type": "execute_result"
    }
   ],
   "source": [
    "np.dot(L,U) #L,U를 곱한 값은(첫 원소가 0일 경우에는 행교환 후의) 행렬 A와 같음"
   ]
  },
  {
   "cell_type": "markdown",
   "metadata": {},
   "source": [
    "#### LU분해를 활용한 방정식(Ax=b)의 해 구하기\n",
    "##### 첨가행렬(augmented matrix) 정의"
   ]
  },
  {
   "cell_type": "code",
   "execution_count": 530,
   "metadata": {},
   "outputs": [],
   "source": [
    "aug = random_matrix(4,5)"
   ]
  },
  {
   "cell_type": "code",
   "execution_count": 544,
   "metadata": {},
   "outputs": [
    {
     "data": {
      "text/plain": [
       "array([[ 6., 10.,  0.,  4.,  7.],\n",
       "       [ 8.,  0.,  8., 10.,  9.],\n",
       "       [ 4.,  1.,  7., 10.,  0.],\n",
       "       [ 4.,  6.,  6.,  2.,  3.]])"
      ]
     },
     "execution_count": 544,
     "metadata": {},
     "output_type": "execute_result"
    }
   ],
   "source": [
    "aug"
   ]
  },
  {
   "cell_type": "code",
   "execution_count": 532,
   "metadata": {},
   "outputs": [],
   "source": [
    "#### A(계수행렬)와 b(결과)의 분리"
   ]
  },
  {
   "cell_type": "code",
   "execution_count": 556,
   "metadata": {},
   "outputs": [],
   "source": [
    "A,b = aug[:,:-1], aug[:,-1].reshape(-1,1)"
   ]
  },
  {
   "cell_type": "code",
   "execution_count": 552,
   "metadata": {},
   "outputs": [
    {
     "name": "stdout",
     "output_type": "stream",
     "text": [
      "분해 완료\n"
     ]
    }
   ],
   "source": [
    "L,U = lu_decomposition(A) # A의 LU분해 결과"
   ]
  },
  {
   "cell_type": "code",
   "execution_count": 553,
   "metadata": {},
   "outputs": [
    {
     "data": {
      "text/plain": [
       "array([[  6.        ,   0.        ,   0.        ,   0.        ],\n",
       "       [  8.        , -13.33333333,   0.        ,   0.        ],\n",
       "       [  4.        ,  -5.66666667,   3.6       ,   0.        ],\n",
       "       [  4.        ,  -0.66666667,   5.6       ,  -9.22222222]])"
      ]
     },
     "execution_count": 553,
     "metadata": {},
     "output_type": "execute_result"
    }
   ],
   "source": [
    "L"
   ]
  },
  {
   "cell_type": "code",
   "execution_count": 569,
   "metadata": {},
   "outputs": [
    {
     "data": {
      "text/plain": [
       "array([[  6.  ,   0.  ,   0.  ,   0.  ,   7.  ],\n",
       "       [  8.  , -13.33,   0.  ,   0.  ,   9.  ],\n",
       "       [  4.  ,  -5.67,   3.6 ,   0.  ,   0.  ],\n",
       "       [  4.  ,  -0.67,   5.6 ,  -9.22,   3.  ]])"
      ]
     },
     "execution_count": 569,
     "metadata": {},
     "output_type": "execute_result"
    }
   ],
   "source": [
    "Lb=np.concatenate((L,b),axis=1) #Lz=b의 첨가행렬\n",
    "np.around(Lb,2)"
   ]
  },
  {
   "cell_type": "markdown",
   "metadata": {},
   "source": [
    "#### Ax=b -> LUx=b\n",
    "##### 이때  Ux를 z(3x1 행렬)로 정의하면 Lz = b\n",
    "##### -> 방정식의 해(z)를 구하기 위해서는 L(하부삼각)을 Forward Substitution(가우스-조르당 소거법의 반대 연산)하여야 함"
   ]
  },
  {
   "cell_type": "code",
   "execution_count": 570,
   "metadata": {},
   "outputs": [],
   "source": [
    "def forward_substitution(aug_matrix):\n",
    "    mcol = len(aug_matrix[0])\n",
    "    for col in range(mcol-1):\n",
    "        for row in range(col+1,mcol-1): #col/row를 파이썬 인덱스에 맞게 적용\n",
    "            const = aug_matrix[row][col]/aug_matrix[col][col] * -1  #constraint\n",
    "            print(col+1,\"행을\",round(const,2), \"만큼 상수배하여\", row+1, \"행의\", col+1,\"열을 소거\")\n",
    "            aug_matrix[row] += const * aug_matrix[col]\n",
    "            print(np.around(aug_matrix,2)) #출력을 위한 반올림\n",
    "            print()\n",
    "    \n",
    "    for i in range(mcol-1): #행의 갯수만큼\n",
    "        aug_matrix[i] /= aug_matrix[i][i] # 각 행의 선행원소를 1로 만들어 줌\n",
    "            \n",
    "    \n",
    "    return aug_matrix[:,-1].reshape(1,-1) #실제 해는 마지막 열(앞은 계수행렬 = 단위행렬), 열벡터 형태로 반환"
   ]
  },
  {
   "cell_type": "code",
   "execution_count": 571,
   "metadata": {},
   "outputs": [
    {
     "name": "stdout",
     "output_type": "stream",
     "text": [
      "1 행을 -1.33 만큼 상수배하여 2 행의 1 열을 소거\n",
      "[[  6.     0.     0.     0.     7.  ]\n",
      " [  0.   -13.33   0.     0.    -0.33]\n",
      " [  4.    -5.67   3.6    0.     0.  ]\n",
      " [  4.    -0.67   5.6   -9.22   3.  ]]\n",
      "\n",
      "1 행을 -0.67 만큼 상수배하여 3 행의 1 열을 소거\n",
      "[[  6.     0.     0.     0.     7.  ]\n",
      " [  0.   -13.33   0.     0.    -0.33]\n",
      " [  0.    -5.67   3.6    0.    -4.67]\n",
      " [  4.    -0.67   5.6   -9.22   3.  ]]\n",
      "\n",
      "1 행을 -0.67 만큼 상수배하여 4 행의 1 열을 소거\n",
      "[[  6.     0.     0.     0.     7.  ]\n",
      " [  0.   -13.33   0.     0.    -0.33]\n",
      " [  0.    -5.67   3.6    0.    -4.67]\n",
      " [  0.    -0.67   5.6   -9.22  -1.67]]\n",
      "\n",
      "2 행을 -0.42 만큼 상수배하여 3 행의 2 열을 소거\n",
      "[[  6.     0.     0.     0.     7.  ]\n",
      " [  0.   -13.33   0.     0.    -0.33]\n",
      " [  0.     0.     3.6    0.    -4.53]\n",
      " [  0.    -0.67   5.6   -9.22  -1.67]]\n",
      "\n",
      "2 행을 -0.05 만큼 상수배하여 4 행의 2 열을 소거\n",
      "[[  6.     0.     0.     0.     7.  ]\n",
      " [  0.   -13.33   0.     0.    -0.33]\n",
      " [  0.     0.     3.6    0.    -4.53]\n",
      " [  0.     0.     5.6   -9.22  -1.65]]\n",
      "\n",
      "3 행을 -1.56 만큼 상수배하여 4 행의 3 열을 소거\n",
      "[[  6.     0.     0.     0.     7.  ]\n",
      " [  0.   -13.33   0.     0.    -0.33]\n",
      " [  0.     0.     3.6    0.    -4.53]\n",
      " [  0.     0.     0.    -9.22   5.39]]\n",
      "\n"
     ]
    },
    {
     "data": {
      "text/plain": [
       "array([[ 1.16666667,  0.025     , -1.25694444, -0.58433735]])"
      ]
     },
     "execution_count": 571,
     "metadata": {},
     "output_type": "execute_result"
    }
   ],
   "source": [
    "z= forward_substitution(Lb)\n",
    "z"
   ]
  },
  {
   "cell_type": "markdown",
   "metadata": {},
   "source": [
    "#### z의 해가 구해졌으므로, Ux = z의 해인 x를 구할 수 있음\n",
    "##### U는 상부삼각행렬이므로, U와 z를 첨가행렬로 구성하여 Back Substitution 사용\n",
    "##### Back Substitution의 알고리즘은 반복되는 행/열의 순서가 반대인 것을 제외하고는 Forward와 동일함"
   ]
  },
  {
   "cell_type": "code",
   "execution_count": 572,
   "metadata": {},
   "outputs": [],
   "source": [
    "def back_substitution(aug_matrix):\n",
    "    mcol = len(aug_matrix[0])\n",
    "    for col in range(mcol-2,0,-1):\n",
    "        for row in range(col-1,-1,-1): #col/row를 파이썬 인덱스에 맞게 적용\n",
    "            const = aug_matrix[row][col]/aug_matrix[col][col] * -1 #\n",
    "            print(col+1,\"행을\", round(const,2), \"만큼 상수배하여\", row+1, \"행의\", col+1,\"열을 소거\")\n",
    "            aug_matrix[row] += const * aug_matrix[col]\n",
    "            print(np.around(aug_matrix,2)) #출력을 위한 반올림\n",
    "    \n",
    "    \n",
    "    for i in range(mcol-1): #행의 갯수만큼\n",
    "        aug_matrix[i] /= aug_matrix[i][i] # 각 행의 선행원소를 1로 만들어 줌\n",
    "    \n",
    "    return aug_matrix"
   ]
  },
  {
   "cell_type": "code",
   "execution_count": 573,
   "metadata": {},
   "outputs": [
    {
     "data": {
      "text/plain": [
       "array([[ 1.    ,  1.6667,  0.    ,  0.6667,  1.1667],\n",
       "       [-0.    ,  1.    , -0.6   , -0.35  ,  0.025 ],\n",
       "       [ 0.    ,  0.    ,  1.    ,  1.4861, -1.2569],\n",
       "       [-0.    , -0.    , -0.    ,  1.    , -0.5843]])"
      ]
     },
     "execution_count": 573,
     "metadata": {},
     "output_type": "execute_result"
    }
   ],
   "source": [
    "Uz=np.concatenate((U,z.T),axis=1) #Lz=b의 첨가행렬\n",
    "np.around(Uz,4)"
   ]
  },
  {
   "cell_type": "code",
   "execution_count": 574,
   "metadata": {},
   "outputs": [
    {
     "name": "stdout",
     "output_type": "stream",
     "text": [
      "4 행을 -1.49 만큼 상수배하여 3 행의 4 열을 소거\n",
      "[[ 1.    1.67  0.    0.67  1.17]\n",
      " [-0.    1.   -0.6  -0.35  0.02]\n",
      " [ 0.    0.    1.    0.   -0.39]\n",
      " [-0.   -0.   -0.    1.   -0.58]]\n",
      "4 행을 0.35 만큼 상수배하여 2 행의 4 열을 소거\n",
      "[[ 1.    1.67  0.    0.67  1.17]\n",
      " [-0.    1.   -0.6   0.   -0.18]\n",
      " [ 0.    0.    1.    0.   -0.39]\n",
      " [-0.   -0.   -0.    1.   -0.58]]\n",
      "4 행을 -0.67 만큼 상수배하여 1 행의 4 열을 소거\n",
      "[[ 1.    1.67  0.    0.    1.56]\n",
      " [-0.    1.   -0.6   0.   -0.18]\n",
      " [ 0.    0.    1.    0.   -0.39]\n",
      " [-0.   -0.   -0.    1.   -0.58]]\n",
      "3 행을 0.6 만큼 상수배하여 2 행의 3 열을 소거\n",
      "[[ 1.    1.67  0.    0.    1.56]\n",
      " [ 0.    1.    0.    0.   -0.41]\n",
      " [ 0.    0.    1.    0.   -0.39]\n",
      " [-0.   -0.   -0.    1.   -0.58]]\n",
      "3 행을 -0.0 만큼 상수배하여 1 행의 3 열을 소거\n",
      "[[ 1.    1.67  0.    0.    1.56]\n",
      " [ 0.    1.    0.    0.   -0.41]\n",
      " [ 0.    0.    1.    0.   -0.39]\n",
      " [-0.   -0.   -0.    1.   -0.58]]\n",
      "2 행을 -1.67 만큼 상수배하여 1 행의 2 열을 소거\n",
      "[[ 1.    0.    0.    0.    2.24]\n",
      " [ 0.    1.    0.    0.   -0.41]\n",
      " [ 0.    0.    1.    0.   -0.39]\n",
      " [-0.   -0.   -0.    1.   -0.58]]\n"
     ]
    }
   ],
   "source": [
    "x=back_substitution(Uz)"
   ]
  },
  {
   "cell_type": "code",
   "execution_count": 575,
   "metadata": {},
   "outputs": [
    {
     "data": {
      "text/plain": [
       "array([ 2.2439759 , -0.4126506 , -0.38855422, -0.58433735])"
      ]
     },
     "execution_count": 575,
     "metadata": {},
     "output_type": "execute_result"
    }
   ],
   "source": [
    "x[:,-1] # 방정식의 해"
   ]
  },
  {
   "cell_type": "markdown",
   "metadata": {},
   "source": [
    "#### 가우스-조르당 소거법 알고리즘을 사용해도 동일한 해가 반환됨"
   ]
  },
  {
   "cell_type": "code",
   "execution_count": 576,
   "metadata": {},
   "outputs": [
    {
     "data": {
      "text/plain": [
       "array([ 2.2439759 , -0.4126506 , -0.38855422, -0.58433735])"
      ]
     },
     "execution_count": 576,
     "metadata": {},
     "output_type": "execute_result"
    }
   ],
   "source": [
    "mat = gauss_jordan_elimination(aug)\n",
    "mat[:,-1]"
   ]
  },
  {
   "cell_type": "markdown",
   "metadata": {},
   "source": [
    "# \n",
    "# \n",
    "# \n",
    "# \n",
    "# \n",
    "#### 다른 노트에서 정의한 함수"
   ]
  },
  {
   "cell_type": "code",
   "execution_count": 513,
   "metadata": {},
   "outputs": [],
   "source": [
    "def random_matrix(rows,cols, max_no=10):\n",
    "    row_list=[]\n",
    "    for r in range(rows):\n",
    "        col_list=[]\n",
    "        for c in range(cols):\n",
    "            col_list.append(float(random.randint(0,max_no))) \n",
    "        row_list.append(col_list)\n",
    "        \n",
    "    return np.array(row_list) \n",
    "\n",
    "def gauss_jordan_elimination(matrix):\n",
    "    mcol = len(matrix[0])\n",
    "    mrow = len(matrix)\n",
    "    row_count = 0\n",
    "\n",
    "\n",
    "    idx = 0\n",
    "    for c in range(mcol): \n",
    "        for r in range(mrow):\n",
    "            idx += matrix[r][c]\n",
    "\n",
    "        if idx == 0: \n",
    "            print(c+1,\"열 의 값이 모두 0입니다.\")\n",
    "            return \n",
    "            \n",
    "        if mrow != mcol - 1:\n",
    "            print(\"해가 무수히 많거나 없습니다.\")\n",
    "            return \n",
    "\n",
    "    for col_count in range(mcol-1):\n",
    "        comp_num = np.inf \n",
    "        \n",
    "\n",
    "        for i in range(row_count,mrow):\n",
    "            if (0 < abs(matrix[i][col_count])) & (abs(matrix[i][col_count]) < abs(comp_num)) : \n",
    "                comp_num = matrix[i][col_count] \n",
    "\n",
    "                first_row = i\n",
    "                if matrix[i][0] == 1:\n",
    "                    break\n",
    "\n",
    "\n",
    "        matrix[first_row]=matrix[first_row]/comp_num \n",
    "        matrix[first_row], matrix[row_count] = matrix[row_count].copy(), matrix[first_row].copy() \n",
    "\n",
    "\n",
    "        for j in range(row_count+1,mrow):\n",
    "            if matrix[j][col_count] != 0:\n",
    "                con_no = matrix[j][col_count]\n",
    "                matrix[j] = matrix[j] - con_no * matrix[row_count]\n",
    "\n",
    "        row_count += 1\n",
    "\n",
    "\n",
    "    for col in range(mcol-2,0,-1):\n",
    "        for row in range(col-1,-1,-1):\n",
    "            const = matrix[row][col] * -1 \n",
    "            matrix[row] += const * matrix[col]\n",
    "    return  matrix"
   ]
  },
  {
   "cell_type": "code",
   "execution_count": null,
   "metadata": {},
   "outputs": [],
   "source": []
  }
 ],
 "metadata": {
  "kernelspec": {
   "display_name": "Python 3",
   "language": "python",
   "name": "python3"
  },
  "language_info": {
   "codemirror_mode": {
    "name": "ipython",
    "version": 3
   },
   "file_extension": ".py",
   "mimetype": "text/x-python",
   "name": "python",
   "nbconvert_exporter": "python",
   "pygments_lexer": "ipython3",
   "version": "3.6.9"
  }
 },
 "nbformat": 4,
 "nbformat_minor": 4
}
