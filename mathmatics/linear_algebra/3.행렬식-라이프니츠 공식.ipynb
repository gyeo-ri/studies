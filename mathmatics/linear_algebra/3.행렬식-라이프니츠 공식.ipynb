{
 "cells": [
  {
   "cell_type": "markdown",
   "metadata": {},
   "source": [
    "###### 겨리 - 2020/12/22\n",
    "### **행렬식 - 라이프니츠 공식**\n",
    "#### 행렬식의 정의와 응용\n",
    "#### - 연산 : \n",
    "#####  &nbsp;&nbsp;&nbsp;&nbsp;&nbsp;&nbsp;&nbsp;&nbsp;&nbsp;&nbsp;    1. 행렬식의 정의와 구현\n",
    "#####  &nbsp;&nbsp;&nbsp;&nbsp;&nbsp;&nbsp;&nbsp;&nbsp;&nbsp;&nbsp;    2. 행렬의 스칼라배\n",
    "#####  &nbsp;&nbsp;&nbsp;&nbsp;&nbsp;&nbsp;&nbsp;&nbsp;&nbsp;&nbsp;    3. 행렬의 곱셈"
   ]
  },
  {
   "cell_type": "code",
   "execution_count": 9,
   "metadata": {},
   "outputs": [],
   "source": [
    "import random\n",
    "import numpy as np"
   ]
  },
  {
   "attachments": {
    "b37b2094-9133-4ca0-9465-8ba705f28087.png": {
     "image/png": "[encoded data removed]"
    }
   },
   "cell_type": "markdown",
   "metadata": {},
   "source": [
    "# \n",
    "### 1.행렬식(determinant)\n",
    "##### 치환(순열)을 사용한 정의 : 라이프니츠 공식\n",
    "![image.png](attachment:b37b2094-9133-4ca0-9465-8ba705f28087.png)"
   ]
  },
  {
   "cell_type": "markdown",
   "metadata": {},
   "source": [
    "#### 치환(Permutation = 순열)\n",
    "##### 원소들의 순서를 바꾸어 재배열하는 것"
   ]
  },
  {
   "cell_type": "code",
   "execution_count": 167,
   "metadata": {},
   "outputs": [],
   "source": [
    "#랜덤 행렬 생성(1~20 사이의 정수)\n",
    "def random_matrix(rows,cols, max_no=10):\n",
    "    row_list=[]\n",
    "    for r in range(rows):\n",
    "        col_list=[]\n",
    "        for c in range(cols):\n",
    "            col_list.append(float(random.randint(0,max_no))) #float형으로 변환함\n",
    "        row_list.append(col_list)\n",
    "        \n",
    "    return np.array(row_list) #넘파이 배열 형태로 변환\n",
    "\n",
    "A=random_matrix(2,2)"
   ]
  },
  {
   "cell_type": "code",
   "execution_count": 168,
   "metadata": {},
   "outputs": [],
   "source": [
    "def permutation(array, k):\n",
    "    order = [] #순서쌍을 담을 공간\n",
    "    n = len(array)\n",
    "    \n",
    "    if k == 1:\n",
    "        for element in array: #원소가 최종적으로 하나만 남는 경우\n",
    "            order.append([element])\n",
    "\n",
    "    elif k > 1:\n",
    "        for i in range(n):\n",
    "            A = array.copy()\n",
    "            element = A.pop(i)\n",
    "\n",
    "\n",
    "            for sub in permutation(A,k-1): #재귀함수의 결과를 순차적으로 추출\n",
    "                #입력된 변수의 결과를 sub에 순차적으로 출력하나, 도중에 하위 재귀를 만났을때는 하위재귀부터 처리함(if k==1이 아닌 경우)\n",
    "                order.append([element]+sub)    \n",
    "    return  order"
   ]
  },
  {
   "cell_type": "code",
   "execution_count": 169,
   "metadata": {},
   "outputs": [],
   "source": [
    "def determinant(matrix):\n",
    "    #행렬식 추출하기\n",
    "    dim = len(matrix)\n",
    "\n",
    "    det = 0 \n",
    "\n",
    "    for sigma_i in  permutation(list(range(dim)),dim): #순열 가짓수만큼 시행\n",
    "\n",
    "        sgn_sigma, fact, cnt = 1, 1,0 #sgn_sigma : 홀치환/짝치환 결과, fact : 각 원소들의 계승, cnt :각 순열의 치환 횟수을 집계\n",
    "        for ai in range(dim): #1열부터 sigma 함수 적용\n",
    "            cnt += sum([sigma_i[ai] > sigma_i[num] for num in range(ai, dim)]) #각 원소의 치환 횟수를 집계\n",
    "            fact *= A[ai][sigma_i[ai]] #원소끼리 곱셈(계승)\n",
    "\n",
    "        sgn_sigma *= (-1)**cnt #홀치환이면 음수, 짝치환이면 양수 부여\n",
    "\n",
    "\n",
    "        det += fact *sgn_sigma #행렬식 계산\n",
    "        \n",
    "    return det"
   ]
  },
  {
   "cell_type": "code",
   "execution_count": 170,
   "metadata": {},
   "outputs": [
    {
     "name": "stdout",
     "output_type": "stream",
     "text": [
      "[[ 1.  6.  1.]\n",
      " [ 3. 10.  8.]\n",
      " [ 1.  5.  8.]]\n"
     ]
    }
   ],
   "source": [
    "A=random_matrix(3,3)\n",
    "print(A)"
   ]
  },
  {
   "cell_type": "code",
   "execution_count": 171,
   "metadata": {},
   "outputs": [
    {
     "data": {
      "text/plain": [
       "-51.0"
      ]
     },
     "execution_count": 171,
     "metadata": {},
     "output_type": "execute_result"
    }
   ],
   "source": [
    "determinant(A)"
   ]
  },
  {
   "cell_type": "markdown",
   "metadata": {},
   "source": [
    "#### 행렬식을 같이 추출하는 함수"
   ]
  },
  {
   "cell_type": "code",
   "execution_count": 246,
   "metadata": {},
   "outputs": [],
   "source": [
    "def determinant_calculation(matrix):\n",
    "    #행렬식 추출하기\n",
    "    dim = len(matrix)\n",
    "    det = 0 \n",
    "    temp_list_2 = []\n",
    "    \n",
    "    \n",
    "    print(\"Matrix A : \\n\", A, \"\\n\")\n",
    "    for sigma_i in  permutation(list(range(dim)),dim): #순열 가짓수만큼 시행\n",
    "        temp_list = []\n",
    "        sgn_sigma, fact, cnt = 1, 1,0 #sgn_sigma : 홀치환/짝치환 결과, fact : 각 원소들의 계승, cnt :각 순열의 치환 횟수을 집계\n",
    "        for ai in range(dim): #1열부터 sigma 함수 적용\n",
    "            cnt += sum([sigma_i[ai] > sigma_i[num] for num in range(ai, dim)]) #각 원소의 치환 횟수를 집계\n",
    "            fact *= A[ai][sigma_i[ai]] #원소끼리 곱셈(계승)\n",
    "            \n",
    "            temp_list.append(A[ai][sigma_i[ai]])\n",
    "            \n",
    "        sgn_sigma *= (-1)**cnt #홀치환이면 음수, 짝치환이면 양수 부여\n",
    "        temp_list.append(sgn_sigma)\n",
    "        \n",
    "        temp_list_2.append(temp_list)\n",
    "\n",
    "        det += fact *sgn_sigma #행렬식 계산\n",
    "    \n",
    "    print(\"Calculation = \", end = \"\")\n",
    "    for row in temp_list_2[:-1]:\n",
    "        print(\"(\"+str(row[-1])+\") * (\" , end=\"\")\n",
    "        [print(int(num), end = \" * \") for num in row[:-2]]\n",
    "        print(int(row[-2]), end = \"\")\n",
    "        print(\")\", end = \" + \")\n",
    "    \n",
    "    last_row = temp_list_2[-1]\n",
    "    print(\"(\"+str(last_row[-1])+\") * (\" , end=\"\")\n",
    "    [print(int(num), end = \" * \") for num in last_row[:-2]]\n",
    "    print(int(last_row[-2]), end=\"\")\n",
    "    print(\")\")\n",
    "    print(\"Det(A) :\",det)\n",
    "    \n",
    "    return "
   ]
  },
  {
   "cell_type": "code",
   "execution_count": 247,
   "metadata": {},
   "outputs": [],
   "source": [
    "A=random_matrix(2,2)"
   ]
  },
  {
   "cell_type": "code",
   "execution_count": 248,
   "metadata": {},
   "outputs": [
    {
     "name": "stdout",
     "output_type": "stream",
     "text": [
      "Matrix A : \n",
      " [[ 5.  1.]\n",
      " [ 0. 10.]] \n",
      "\n",
      "Calculation = (1) * (5 * 10) + (-1) * (1 * 0)\n",
      "Det(A) : 50.0\n"
     ]
    }
   ],
   "source": [
    "determinant_calculation(A)"
   ]
  },
  {
   "cell_type": "markdown",
   "metadata": {},
   "source": [
    "#### * 0행이 한 줄이라도 있으면 Det(A) = 0이며 비가역행렬이다."
   ]
  },
  {
   "cell_type": "markdown",
   "metadata": {},
   "source": [
    "##### 참고 자료 : https://m.blog.naver.com/CommentList.nhn?blogId=lcuh11&logNo=220755451414\n",
    "##### 순열 관련 : https://medium.com/@dltkddud4403/python-%EC%88%9C%EC%97%B4-%EC%A1%B0%ED%95%A9-%EA%B5%AC%ED%98%84-5e496e74621c"
   ]
  },
  {
   "cell_type": "code",
   "execution_count": null,
   "metadata": {},
   "outputs": [],
   "source": []
  }
 ],
 "metadata": {
  "kernelspec": {
   "display_name": "Python 3",
   "language": "python",
   "name": "python3"
  },
  "language_info": {
   "codemirror_mode": {
    "name": "ipython",
    "version": 3
   },
   "file_extension": ".py",
   "mimetype": "text/x-python",
   "name": "python",
   "nbconvert_exporter": "python",
   "pygments_lexer": "ipython3",
   "version": "3.6.9"
  }
 },
 "nbformat": 4,
 "nbformat_minor": 4
}
