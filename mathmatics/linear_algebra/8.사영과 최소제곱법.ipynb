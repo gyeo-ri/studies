{
 "cells": [
  {
   "cell_type": "markdown",
   "metadata": {},
   "source": [
    "###### 겨리 - 2020/01/15\n",
    "### **사영(Projection)**\n",
    "#### 1. 벡터의 Projection : 벡터 v의 성질을 유지하여 벡터 x에 나타냄\n",
    "##### Proj_x^v = (v * x) / ||x||^2"
   ]
  },
  {
   "cell_type": "code",
   "execution_count": 455,
   "metadata": {},
   "outputs": [],
   "source": [
    "import numpy as np\n",
    "import random\n",
    "from matplotlib import pyplot as plt"
   ]
  },
  {
   "cell_type": "code",
   "execution_count": 456,
   "metadata": {},
   "outputs": [],
   "source": [
    "def projection(v_to_proj, x_apply_to):\n",
    "    \n",
    "    scalar = np.dot(v_to_proj.T, x_apply_to) / np.dot(x_apply_to.T,x_apply_to) #점곱 시 앞의 벡터를 전치해주어야 함\n",
    "    proj   = scalar * x_apply_to #구해진 상수를 기준이 될 벡터 x에 적용\n",
    "    return proj"
   ]
  },
  {
   "cell_type": "code",
   "execution_count": 457,
   "metadata": {},
   "outputs": [],
   "source": [
    "x = np.array([3,0]) #사영시킬 대상\n",
    "o = np.array([0,0]) #2차원 평면의 원점\n",
    "v = np.array([1,1]) #변환할 벡터\n",
    "projx_xv=projection(v,x)"
   ]
  },
  {
   "cell_type": "code",
   "execution_count": 458,
   "metadata": {},
   "outputs": [
    {
     "name": "stdout",
     "output_type": "stream",
     "text": [
      "벡터 v(Blue)를 x에 평행한 벡터 Proj_xv(Red)로 Projection\n"
     ]
    },
    {
     "data": {
      "image/png": "[encoded data removed]",
      "text/plain": [
       "<Figure size 432x288 with 1 Axes>"
      ]
     },
     "metadata": {
      "needs_background": "light"
     },
     "output_type": "display_data"
    }
   ],
   "source": [
    "print(\"벡터 v(Blue)를 x에 평행한 벡터 Proj_xv(Red)로 Projection\")\n",
    "plt.arrow(o[0], o[1], x[0], x[1], head_width=0.1, head_length=0.1, ec=\"black\", fc = \"black\")\n",
    "plt.arrow(o[0], o[1], v[0], v[1], head_width=0.1, head_length=0.1, ec=\"blue\", fc = \"blue\")\n",
    "plt.arrow(o[0], o[1], proj_xv[0], proj_xv[1], head_width=0.1, head_length=0.1, ec=\"red\", fc = \"red\")\n",
    "plt.xlim(0,5)\n",
    "plt.ylim(-1,2.5)\n",
    "plt.legend([\"vector x\",\"vector v\", \"proj_vector_xv\"])\n",
    "plt.show()"
   ]
  },
  {
   "cell_type": "code",
   "execution_count": 459,
   "metadata": {},
   "outputs": [
    {
     "data": {
      "text/plain": [
       "array([1, 1])"
      ]
     },
     "execution_count": 459,
     "metadata": {},
     "output_type": "execute_result"
    }
   ],
   "source": [
    "v"
   ]
  },
  {
   "cell_type": "code",
   "execution_count": 460,
   "metadata": {},
   "outputs": [],
   "source": [
    "orth_v = np.array([1., -1.]) #Orthogonal(x에 수직)"
   ]
  },
  {
   "cell_type": "code",
   "execution_count": 461,
   "metadata": {},
   "outputs": [
    {
     "data": {
      "image/png": "[encoded data removed]",
      "text/plain": [
       "<Figure size 432x288 with 1 Axes>"
      ]
     },
     "metadata": {
      "needs_background": "light"
     },
     "output_type": "display_data"
    }
   ],
   "source": [
    "plt.arrow(o[0], o[1], orth_v[0], orth_v[1], head_width=0.1, head_length=0.1, ec=\"black\", fc = \"black\")\n",
    "plt.arrow(o[0], o[1], v[0], v[1], head_width=0.1, head_length=0.1, ec=\"blue\", fc = \"blue\")\n",
    "plt.arrow(o[0], o[1], proj_xv[0], proj_xv[1], head_width=0.1, head_length=0.1, ec=\"red\", fc = \"red\")\n",
    "plt.xlim(0,4)\n",
    "plt.ylim(-2,2)\n",
    "plt.legend([\"vector x\",\"vector v\", \"proj_vector_xv\"])\n",
    "plt.show()"
   ]
  },
  {
   "cell_type": "markdown",
   "metadata": {},
   "source": [
    "#####  (0,0)E를 v1 = (1,1), v2(1,-1)로 구성된 기저 B=(v1,v2)의 좌표로 변환할 수 있음"
   ]
  },
  {
   "cell_type": "code",
   "execution_count": 462,
   "metadata": {},
   "outputs": [],
   "source": [
    "new_x = np.array([1.,0.])"
   ]
  },
  {
   "cell_type": "code",
   "execution_count": 463,
   "metadata": {},
   "outputs": [],
   "source": [
    "v1 = projection(new_x,v)\n",
    "v2 = projection(new_x,orth_v)"
   ]
  },
  {
   "cell_type": "code",
   "execution_count": 464,
   "metadata": {},
   "outputs": [
    {
     "data": {
      "text/plain": [
       "array([[ 0.5,  0.5],\n",
       "       [ 0.5, -0.5]])"
      ]
     },
     "execution_count": 464,
     "metadata": {},
     "output_type": "execute_result"
    }
   ],
   "source": [
    "B = np.concatenate([[v1,v2]], axis=1) #열벡터의 결합\n",
    "B"
   ]
  },
  {
   "cell_type": "code",
   "execution_count": 465,
   "metadata": {},
   "outputs": [
    {
     "data": {
      "text/plain": [
       "array([1., 0.])"
      ]
     },
     "execution_count": 465,
     "metadata": {},
     "output_type": "execute_result"
    }
   ],
   "source": [
    "v1 + v2 # new_x를 (1,1)B로 나타낼 수 있음"
   ]
  },
  {
   "cell_type": "markdown",
   "metadata": {},
   "source": [
    "#### 정사영 정리\n",
    "##### 벡터 v가 공간 R^n에 속하고, v가 부분공간일 때 R^n의 벡터 x는 부분공간 v의 벡터 x1과 v에 수직인 부분공간 vㅗ의 벡터 x2에 의해 x = v1 + v2 유일하게 표현된다.\n",
    "##### B = (v1,v2)인 기저에서 x를 표현 가능(단 v1은 v2와 직교 -> 둘의 점곱이 0)"
   ]
  },
  {
   "cell_type": "code",
   "execution_count": 466,
   "metadata": {},
   "outputs": [
    {
     "data": {
      "text/plain": [
       "0.0"
      ]
     },
     "execution_count": 466,
     "metadata": {},
     "output_type": "execute_result"
    }
   ],
   "source": [
    "np.dot(v1,v2)"
   ]
  },
  {
   "cell_type": "markdown",
   "metadata": {},
   "source": [
    "#### 2. 벡터공간의 Projection"
   ]
  },
  {
   "cell_type": "markdown",
   "metadata": {},
   "source": [
    "##### 벡터공간 V에 속하는 벡터 중 x와 가장 가까운 것읜 Proj_V_x이다.\n",
    "##### 공간 V의 벡터 v'에 대해 Projection 한 것과 같음"
   ]
  },
  {
   "cell_type": "code",
   "execution_count": 467,
   "metadata": {},
   "outputs": [
    {
     "data": {
      "image/png": "[encoded data removed]",
      "text/plain": [
       "<Figure size 432x288 with 1 Axes>"
      ]
     },
     "metadata": {
      "needs_background": "light"
     },
     "output_type": "display_data"
    }
   ],
   "source": [
    "plt.xlim(-1,4)\n",
    "plt.ylim(-1,3)\n",
    "plt.axhline(y=0, color='black', linewidth=2, alpha=0.3)\n",
    "plt.axvline(x=0, color='black', linewidth=2, alpha=0.3)\n",
    "plt.text(2.6,0.2,\"vector space : v\")\n",
    "plt.text(0.1,2.5,\"orth of vector space : v_orth\")\n",
    "plt.arrow(o[0], o[1], 1, 1, head_width=0.1, head_length=0.1, ec=\"blue\", fc = \"blue\")\n",
    "plt.text(0.7,0.5, \"vector x = x_1 + x_2\", color = \"blue\")\n",
    "plt.arrow(o[0], o[1], 1, 0, head_width=0.1, head_length=0.1, ec=\"red\", fc = \"red\")\n",
    "plt.text(0.2, -0.2, \"proj_v_x = x_1\", color = \"red\")\n",
    "plt.arrow(o[0], o[1], 0, 1, head_width=0.1, head_length=0.1, ec=\"green\", fc = \"green\")\n",
    "plt.text(0.1, 1.4, \"proj_v_orth_x = x_2 = x - x_1\", color = \"green\")\n",
    "plt.show()"
   ]
  },
  {
   "cell_type": "code",
   "execution_count": 480,
   "metadata": {},
   "outputs": [],
   "source": [
    "X = np.zeros((30,1))\n",
    "Y = np.zeros((30,1))\n",
    "for i in range(30):\n",
    "    x =random.randrange(0,5000)/1000 # 0~5 사이의 실수\n",
    "    a = 2\n",
    "    b = 1\n",
    "    e = random.uniform(-1,1) #무작위에러\n",
    "    y = a*x + b + e\n",
    "    X[i] = x\n",
    "    Y[i] = y"
   ]
  },
  {
   "cell_type": "code",
   "execution_count": 481,
   "metadata": {},
   "outputs": [
    {
     "name": "stdout",
     "output_type": "stream",
     "text": [
      "y = 2x + 1 + e\n"
     ]
    },
    {
     "data": {
      "image/png": "[encoded data removed]",
      "text/plain": [
       "<Figure size 432x288 with 1 Axes>"
      ]
     },
     "metadata": {
      "needs_background": "light"
     },
     "output_type": "display_data"
    }
   ],
   "source": [
    "print(\"y = 2x + 1 + e\")\n",
    "plt.scatter(X,Y)\n",
    "plt.show()"
   ]
  },
  {
   "cell_type": "code",
   "execution_count": 482,
   "metadata": {},
   "outputs": [],
   "source": [
    "b = np.ones((30,1)) # x0(상수항)을 1로 지정\n",
    "Xb = np.concatenate((X,b), axis = 1) #x0, x1의 원소를 담은 배열"
   ]
  },
  {
   "cell_type": "code",
   "execution_count": 494,
   "metadata": {},
   "outputs": [],
   "source": [
    "Xs = np.linalg.inv(np.dot(Xb.T,Xb)).dot(Xb.T).dot(Y) #정규방정식\n",
    "x1 = Xs[0][0]\n",
    "x0 = Xs[1][0]"
   ]
  },
  {
   "cell_type": "code",
   "execution_count": 495,
   "metadata": {},
   "outputs": [
    {
     "name": "stdout",
     "output_type": "stream",
     "text": [
      "직선의 기울기 : 1.9980969890774676\n",
      "직선의 y 절편 : 1.1435021099925957\n"
     ]
    }
   ],
   "source": [
    "print(\"직선의 기울기 :\", x1)\n",
    "print(\"직선의 y 절편 :\", x0)"
   ]
  },
  {
   "cell_type": "code",
   "execution_count": 496,
   "metadata": {},
   "outputs": [],
   "source": [
    "Ys = x1 * X + x0"
   ]
  },
  {
   "cell_type": "code",
   "execution_count": 497,
   "metadata": {},
   "outputs": [
    {
     "data": {
      "text/plain": [
       "array([[ 0.59650008],\n",
       "       [ 0.95957185],\n",
       "       [ 0.69763092],\n",
       "       [ 0.02405396],\n",
       "       [-0.8591743 ],\n",
       "       [ 0.97967363],\n",
       "       [-0.75728972],\n",
       "       [-0.635621  ],\n",
       "       [ 0.26423533],\n",
       "       [ 0.03781394],\n",
       "       [-0.63546956],\n",
       "       [ 0.89537217],\n",
       "       [ 0.45813533],\n",
       "       [ 0.55790556],\n",
       "       [ 0.61456274],\n",
       "       [ 0.7482769 ],\n",
       "       [-0.84903489],\n",
       "       [-0.85060515],\n",
       "       [ 0.49019076],\n",
       "       [-0.36892363],\n",
       "       [-0.13537417],\n",
       "       [-0.4483204 ],\n",
       "       [-0.19234804],\n",
       "       [-0.6010418 ],\n",
       "       [-0.40114443],\n",
       "       [ 1.02476032],\n",
       "       [-0.24760663],\n",
       "       [-0.62200358],\n",
       "       [-0.71002626],\n",
       "       [-0.03469994]])"
      ]
     },
     "execution_count": 497,
     "metadata": {},
     "output_type": "execute_result"
    }
   ],
   "source": [
    "Ys - Y #각 예측들의 오차"
   ]
  },
  {
   "cell_type": "code",
   "execution_count": 498,
   "metadata": {},
   "outputs": [
    {
     "name": "stdout",
     "output_type": "stream",
     "text": [
      "직선의 기울기 : 1.9980969890774676\n",
      "직선의 y 절편 : 1.1435021099925957\n"
     ]
    }
   ],
   "source": [
    "print(\"직선의 기울기 :\", x1)\n",
    "print(\"직선의 y 절편 :\", x0)"
   ]
  },
  {
   "cell_type": "code",
   "execution_count": 499,
   "metadata": {},
   "outputs": [
    {
     "name": "stdout",
     "output_type": "stream",
     "text": [
      "RMSE :  3.43\n",
      "yhat =1.998x + 1.144 + e\n"
     ]
    },
    {
     "data": {
      "image/png": "[encoded data removed]",
      "text/plain": [
       "<Figure size 432x288 with 1 Axes>"
      ]
     },
     "metadata": {
      "needs_background": "light"
     },
     "output_type": "display_data"
    }
   ],
   "source": [
    "print(\"RMSE : \",round(sum((Ys-Y)**2)[0]**0.5,2)) # 평균제곱근오차(RMSE)\n",
    "print(\"yhat =\"+str(np.round(x1,3))+'x + '+str(np.round(x0,3))+' + e')\n",
    "plt.scatter(X,Y)\n",
    "plt.plot(X,Ys, color = 'red')\n",
    "plt.legend([\"Predicted\"])\n",
    "plt.show()"
   ]
  },
  {
   "cell_type": "code",
   "execution_count": null,
   "metadata": {},
   "outputs": [],
   "source": []
  },
  {
   "cell_type": "code",
   "execution_count": null,
   "metadata": {},
   "outputs": [],
   "source": []
  }
 ],
 "metadata": {
  "kernelspec": {
   "display_name": "Python 3",
   "language": "python",
   "name": "python3"
  },
  "language_info": {
   "codemirror_mode": {
    "name": "ipython",
    "version": 3
   },
   "file_extension": ".py",
   "mimetype": "text/x-python",
   "name": "python",
   "nbconvert_exporter": "python",
   "pygments_lexer": "ipython3",
   "version": "3.6.9"
  }
 },
 "nbformat": 4,
 "nbformat_minor": 4
}
